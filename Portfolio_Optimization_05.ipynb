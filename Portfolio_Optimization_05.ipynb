{
 "cells": [
  {
   "cell_type": "markdown",
   "metadata": {},
   "source": [
    "# Российский рынок\n",
    "## Бэктестинг\n",
    "\n",
    "Здесь проведем бэкстестинг и определим оптимальный период для ребалансировки портфеля"
   ]
  },
  {
   "cell_type": "code",
   "execution_count": 7,
   "metadata": {},
   "outputs": [],
   "source": [
    "import os\n",
    "import pandas as pd\n",
    "import numpy as np\n",
    "import scipy.optimize as sco\n",
    "import matplotlib.pyplot as plt\n",
    "import matplotlib.cm as cm\n",
    "import matplotlib.lines as mlines\n",
    "from tqdm import tqdm_notebook\n",
    "import seaborn as sns\n",
    "\n",
    "%matplotlib inline\n",
    "# Для отрисовки сетки за графиком\n",
    "plt.rc('axes', axisbelow=True)"
   ]
  },
  {
   "cell_type": "markdown",
   "metadata": {},
   "source": [
    "---"
   ]
  },
  {
   "cell_type": "code",
   "execution_count": 8,
   "metadata": {},
   "outputs": [],
   "source": [
    "# Функция вычисляющая риск и доходность для конкретного портфеля\n",
    "def portfolio_performance(weights, mean_returns, cov_matrix):\n",
    "    returns = np.sum(mean_returns*weights ) * num_periods_annually\n",
    "    std = np.sqrt(np.dot(weights.T, np.dot(cov_matrix, weights))) * np.sqrt(num_periods_annually)\n",
    "    return std, returns"
   ]
  },
  {
   "cell_type": "markdown",
   "metadata": {},
   "source": [
    "---\n",
    "\n",
    "Функции для оптимизации по максимальному коэффициенту Шарпа"
   ]
  },
  {
   "cell_type": "code",
   "execution_count": 9,
   "metadata": {},
   "outputs": [],
   "source": [
    "def neg_sharpe_ratio(weights, mean_returns, cov_matrix, risk_free_rate):\n",
    "    p_var, p_ret = portfolio_performance(weights, mean_returns, cov_matrix)\n",
    "    return -(p_ret - risk_free_rate) / p_var"
   ]
  },
  {
   "cell_type": "code",
   "execution_count": 10,
   "metadata": {},
   "outputs": [],
   "source": [
    "def max_sharpe_ratio(mean_returns, cov_matrix, risk_free_rate):\n",
    "    num_assets = len(mean_returns)\n",
    "    args = (mean_returns, cov_matrix, risk_free_rate)\n",
    "    constraints = ({'type': 'eq', 'fun': lambda x: np.sum(x) - 1})\n",
    "    bound = (0.0,1.0)\n",
    "    bounds = tuple(bound for asset in range(num_assets))\n",
    "    \n",
    "    result = sco.minimize(neg_sharpe_ratio, num_assets*[1./num_assets,], args=args,\n",
    "                        method='SLSQP', bounds=bounds, constraints=constraints)\n",
    "    return result"
   ]
  },
  {
   "cell_type": "markdown",
   "metadata": {},
   "source": [
    "---\n",
    "\n",
    "Функции для оптимизации по минимальному риску"
   ]
  },
  {
   "cell_type": "code",
   "execution_count": 11,
   "metadata": {},
   "outputs": [],
   "source": [
    "def portfolio_risk(weights, mean_returns, cov_matrix):\n",
    "    return portfolio_performance(weights, mean_returns, cov_matrix)[0]"
   ]
  },
  {
   "cell_type": "code",
   "execution_count": 12,
   "metadata": {},
   "outputs": [],
   "source": [
    "def min_risk(mean_returns, cov_matrix):\n",
    "    num_assets = len(mean_returns)\n",
    "    args = (mean_returns, cov_matrix)\n",
    "    constraints = ({'type': 'eq', 'fun': lambda x: np.sum(x) - 1})\n",
    "    bound = (0.0,1.0)\n",
    "    bounds = tuple(bound for asset in range(num_assets))\n",
    "\n",
    "    result = sco.minimize(portfolio_risk, num_assets*[1./num_assets,], args=args,\n",
    "                          method='SLSQP', bounds=bounds, constraints=constraints)\n",
    "\n",
    "    return result"
   ]
  },
  {
   "cell_type": "markdown",
   "metadata": {},
   "source": [
    "---\n",
    "\n",
    "Функции для оптимизации по максимальной доходности"
   ]
  },
  {
   "cell_type": "code",
   "execution_count": 13,
   "metadata": {},
   "outputs": [],
   "source": [
    "def neg_portfolio_return(weights, mean_returns, cov_matrix):\n",
    "    return -1*portfolio_performance(weights, mean_returns, cov_matrix)[1]"
   ]
  },
  {
   "cell_type": "code",
   "execution_count": 14,
   "metadata": {},
   "outputs": [],
   "source": [
    "def max_return(mean_returns, cov_matrix):\n",
    "    num_assets = len(mean_returns)\n",
    "    args = (mean_returns, cov_matrix)\n",
    "    constraints = ({'type': 'eq', 'fun': lambda x: np.sum(x) - 1})\n",
    "    bound = (0.0,1.0)\n",
    "    bounds = tuple(bound for asset in range(num_assets))\n",
    "\n",
    "    result = sco.minimize(neg_portfolio_return, num_assets*[1./num_assets,], args=args,\n",
    "                          method='SLSQP', bounds=bounds, constraints=constraints)\n",
    "\n",
    "    return result"
   ]
  },
  {
   "cell_type": "markdown",
   "metadata": {},
   "source": [
    "---\n",
    "\n",
    "Функции для поиска оптимальной границы"
   ]
  },
  {
   "cell_type": "code",
   "execution_count": 15,
   "metadata": {},
   "outputs": [],
   "source": [
    "def efficient_return(mean_returns, cov_matrix, target):\n",
    "    num_assets = len(mean_returns)\n",
    "    args = (mean_returns, cov_matrix)\n",
    "    \n",
    "    def portfolio_return(weights):\n",
    "        return portfolio_performance(weights, mean_returns, cov_matrix)[1]\n",
    "\n",
    "    constraints = ({'type': 'eq', 'fun': lambda x: portfolio_return(x) - target},\n",
    "                   {'type': 'eq', 'fun': lambda x: np.sum(x) - 1})\n",
    "    bounds = tuple((0,1) for asset in range(num_assets))\n",
    "    result = sco.minimize(portfolio_risk, num_assets*[1./num_assets,], args=args,\n",
    "                          method='SLSQP', bounds=bounds, constraints=constraints)\n",
    "    return result"
   ]
  },
  {
   "cell_type": "code",
   "execution_count": 16,
   "metadata": {},
   "outputs": [],
   "source": [
    "def efficient_frontier(mean_returns, cov_matrix, returns_range):\n",
    "    efficients = []\n",
    "    for ret in returns_range:\n",
    "        efficients.append(efficient_return(mean_returns, cov_matrix, ret))\n",
    "    return efficients"
   ]
  },
  {
   "cell_type": "markdown",
   "metadata": {},
   "source": [
    "---"
   ]
  },
  {
   "cell_type": "markdown",
   "metadata": {},
   "source": [
    "Функции для бэктестинга"
   ]
  },
  {
   "cell_type": "code",
   "execution_count": 17,
   "metadata": {},
   "outputs": [],
   "source": [
    "# Оптимизация по максимальному коэф. Шарпа для части таблицы (данных)\n",
    "def opt_max_sharpe_ratio(part_price, risk_free_rate):\n",
    "    returns = part_price.pct_change()\n",
    "    mean_returns = returns.mean()\n",
    "    cov_matrix = returns.cov()\n",
    "    num_assets = len(mean_returns)\n",
    "    args = (mean_returns, cov_matrix, risk_free_rate)\n",
    "    constraints = ({'type': 'eq', 'fun': lambda x: np.sum(x) - 1})\n",
    "    bound = (0.0,1.0)\n",
    "    bounds = tuple(bound for asset in range(num_assets))\n",
    "    \n",
    "    result = sco.minimize(neg_sharpe_ratio, num_assets*[1./num_assets,], args=args,\n",
    "                          method='SLSQP', bounds=bounds, constraints=constraints)\n",
    "    return result"
   ]
  },
  {
   "cell_type": "code",
   "execution_count": 18,
   "metadata": {},
   "outputs": [],
   "source": [
    "# Оптимизация по заданному риску\n",
    "def opt_targeted_risk(part_price, target):\n",
    "    returns = part_price.pct_change()\n",
    "    mean_returns = returns.mean()\n",
    "    cov_matrix = returns.cov()\n",
    "    num_assets = len(mean_returns)\n",
    "    args = (mean_returns, cov_matrix)\n",
    "\n",
    "    def portfolio_risk(weights):\n",
    "        return portfolio_performance(weights, mean_returns, cov_matrix)[0]\n",
    "\n",
    "    constraints = ({'type': 'eq', 'fun': lambda x: portfolio_risk(x) - target},\n",
    "                   {'type': 'eq', 'fun': lambda x: np.sum(x) - 1})\n",
    "    bounds = tuple((0,1) for asset in range(num_assets))\n",
    "    result = sco.minimize(neg_portfolio_return, num_assets*[1./num_assets,], args=args,\n",
    "                          method='SLSQP', bounds=bounds, constraints=constraints)\n",
    "    return result"
   ]
  },
  {
   "cell_type": "code",
   "execution_count": 1,
   "metadata": {},
   "outputs": [],
   "source": [
    "# Оптимизация по заданной доходности\n",
    "def opt_targeted_return(part_price, target):\n",
    "    returns = part_price.pct_change()\n",
    "    mean_returns = returns.mean()\n",
    "    cov_matrix = returns.cov()\n",
    "    num_assets = len(mean_returns)\n",
    "    args = (mean_returns, cov_matrix)\n",
    "\n",
    "    def portfolio_return(weights):\n",
    "        return portfolio_performance(weights, mean_returns, cov_matrix)[1]\n",
    "\n",
    "    constraints = ({'type': 'eq', 'fun': lambda x: portfolio_return(x) - target},\n",
    "                   {'type': 'eq', 'fun': lambda x: np.sum(x) - 1})\n",
    "    bounds = tuple((0,1) for asset in range(num_assets))\n",
    "    result = sco.minimize(portfolio_risk, num_assets*[1./num_assets,], args=args,\n",
    "                          method='SLSQP', bounds=bounds, constraints=constraints)\n",
    "    return result"
   ]
  },
  {
   "cell_type": "markdown",
   "metadata": {},
   "source": [
    "# Старт"
   ]
  },
  {
   "cell_type": "markdown",
   "metadata": {},
   "source": [
    "Загружаем цены закрытия акций за предыдущий год"
   ]
  },
  {
   "cell_type": "code",
   "execution_count": 20,
   "metadata": {},
   "outputs": [
    {
     "data": {
      "text/plain": [
       "40"
      ]
     },
     "execution_count": 20,
     "metadata": {},
     "output_type": "execute_result"
    }
   ],
   "source": [
    "# акции из индекса Мос. Биржи\n",
    "stocks = [\"AFKS\",\n",
    "          \"AFLT\",\n",
    "          \"ALRS\",\n",
    "          \"CBOM\",\n",
    "          \"CHMF\",\n",
    "          \"DSKY\",\n",
    "          \"FEES\",\n",
    "          \"GAZP\",\n",
    "          \"GMKN\",\n",
    "          \"HYDR\",\n",
    "          \"IRAO\",\n",
    "          \"LKOH\",\n",
    "          \"MAGN\",\n",
    "          \"MGNT\",\n",
    "          \"MOEX\",\n",
    "          \"MTLR\",\n",
    "          \"MTSS\",\n",
    "          \"MVID\",\n",
    "          \"NLMK\",\n",
    "          \"NVTK\",\n",
    "          \"PHOR\",\n",
    "          \"PIKK\",\n",
    "          \"PLZL\",\n",
    "          \"POLY\",\n",
    "          \"RNFT\",\n",
    "          \"ROSN\",\n",
    "          \"RTKM\",\n",
    "          \"RUAL\",\n",
    "          \"SBER\",\n",
    "          \"SBERP\",\n",
    "          \"SNGS\",\n",
    "          \"SNGSP\",\n",
    "          \"TATN\",\n",
    "          \"TATNP\",\n",
    "          \"TRMK\",\n",
    "          \"TRNFP\",\n",
    "          \"UPRO\",\n",
    "          \"UWGN\",\n",
    "          \"VTBR\",\n",
    "          \"YNDX\"]\n",
    "len(stocks)"
   ]
  },
  {
   "cell_type": "markdown",
   "metadata": {},
   "source": [
    "Задаем интервал для загрузки данных"
   ]
  },
  {
   "cell_type": "code",
   "execution_count": 22,
   "metadata": {},
   "outputs": [],
   "source": [
    "start = '2011-01-01'\n",
    "stop  = '2018-11-01'"
   ]
  },
  {
   "cell_type": "code",
   "execution_count": 23,
   "metadata": {},
   "outputs": [
    {
     "data": {
      "text/plain": [
       "(1970, 40)"
      ]
     },
     "execution_count": 23,
     "metadata": {},
     "output_type": "execute_result"
    }
   ],
   "source": [
    "price = pd.DataFrame()\n",
    "\n",
    "# Временная, т.к. для первого добавления данных должны быть все индексы\n",
    "price['SBER'] = pd.read_csv('./csv/'+'SBER'+'.csv', parse_dates=['Date'], index_col=0)['Close'][start:stop]\n",
    "\n",
    "for symbol in stocks:\n",
    "    price[symbol] = pd.read_csv('./csv/'+symbol+'.csv', parse_dates=['Date'], index_col=0)['Close'][start:stop]\n",
    "#price.head()\n",
    "price.shape"
   ]
  },
  {
   "cell_type": "code",
   "execution_count": 24,
   "metadata": {},
   "outputs": [
    {
     "data": {
      "text/plain": [
       "8707"
      ]
     },
     "execution_count": 24,
     "metadata": {},
     "output_type": "execute_result"
    }
   ],
   "source": [
    "# How NaN rows\n",
    "price.isnull().sum().sum()"
   ]
  },
  {
   "cell_type": "markdown",
   "metadata": {},
   "source": [
    "Удаляем из таблицы акции у которых пропусков (NaN) больше 50"
   ]
  },
  {
   "cell_type": "code",
   "execution_count": 25,
   "metadata": {},
   "outputs": [],
   "source": [
    "# isnull = price.isnull().sum()\n",
    "# for ticker in stocks:     #if too many null entries for given stock, exclude from analysis\n",
    "#     try:\n",
    "#         if isnull[ticker] > 50:\n",
    "#             price.drop(ticker, axis=1, inplace=True)\n",
    "#     except:\n",
    "#         pass"
   ]
  },
  {
   "cell_type": "code",
   "execution_count": 26,
   "metadata": {},
   "outputs": [
    {
     "data": {
      "text/plain": [
       "40"
      ]
     },
     "execution_count": 26,
     "metadata": {},
     "output_type": "execute_result"
    }
   ],
   "source": [
    "# Смотрим, сколько акций осталось\n",
    "price.columns.size"
   ]
  },
  {
   "cell_type": "markdown",
   "metadata": {},
   "source": [
    "Заполняем пустые ячейки ценой предыдущего дня. Если ее нет, то последующего"
   ]
  },
  {
   "cell_type": "code",
   "execution_count": 27,
   "metadata": {},
   "outputs": [
    {
     "data": {
      "text/plain": [
       "8707"
      ]
     },
     "execution_count": 27,
     "metadata": {},
     "output_type": "execute_result"
    }
   ],
   "source": [
    "# How NaN rows\n",
    "price.isnull().sum().sum()"
   ]
  },
  {
   "cell_type": "code",
   "execution_count": 28,
   "metadata": {},
   "outputs": [],
   "source": [
    "price.fillna(method='ffill', inplace=True)\n",
    "price.fillna(method='bfill', inplace=True)"
   ]
  },
  {
   "cell_type": "code",
   "execution_count": 29,
   "metadata": {},
   "outputs": [
    {
     "data": {
      "text/plain": [
       "0"
      ]
     },
     "execution_count": 29,
     "metadata": {},
     "output_type": "execute_result"
    }
   ],
   "source": [
    "# How NaN rows\n",
    "price.isnull().sum().sum()"
   ]
  },
  {
   "cell_type": "markdown",
   "metadata": {},
   "source": [
    "Загружаем индекс Московской Биржи (IMOEX)"
   ]
  },
  {
   "cell_type": "code",
   "execution_count": 30,
   "metadata": {},
   "outputs": [],
   "source": [
    "imoex = pd.read_csv('./csv/'+'IMOEX.csv', parse_dates=['Date'], index_col=0)['Close'][start:stop]\n",
    "#imoex.plot();"
   ]
  },
  {
   "cell_type": "markdown",
   "metadata": {},
   "source": [
    "### Задаем параметры для бэктестинга"
   ]
  },
  {
   "cell_type": "code",
   "execution_count": 31,
   "metadata": {},
   "outputs": [],
   "source": [
    "# Через сколько дней переоптимизируем портфель\n",
    "shift = 60\n",
    "\n",
    "# Rolling window (days)\n",
    "rolling = 250\n",
    "\n",
    "# Безрисковая процентная ставка\n",
    "risk_free_rate = 0.00\n",
    "\n",
    "# Заданный риск портфеля для оптимизации\n",
    "TargetRisk = 0.17\n",
    "\n",
    "# Заданная доходность портфеля для оптимизации\n",
    "TargetReturn = 0.20\n",
    "\n",
    "num_periods_annually = 252 # Количество операционных дней в году"
   ]
  },
  {
   "cell_type": "markdown",
   "metadata": {},
   "source": [
    "Запускаем бэктестинг. Расчитываем доходность портфеля каждый день, но ребалансировку делаем через каждые **shift** дней"
   ]
  },
  {
   "cell_type": "code",
   "execution_count": 32,
   "metadata": {},
   "outputs": [
    {
     "data": {
      "application/vnd.jupyter.widget-view+json": {
       "model_id": "ab437a70aa684084b6421650fd34af5e",
       "version_major": 2,
       "version_minor": 0
      },
      "text/plain": [
       "HBox(children=(IntProgress(value=0, max=1720), HTML(value='')))"
      ]
     },
     "metadata": {},
     "output_type": "display_data"
    },
    {
     "name": "stdout",
     "output_type": "stream",
     "text": [
      "\n"
     ]
    }
   ],
   "source": [
    "index = price.index\n",
    "p_returns = pd.DataFrame(columns=['p_returns'])\n",
    "distribution = pd.DataFrame(index=price.columns)\n",
    "portfolio_alloc = 0\n",
    "#sharpe_ratio = pd.DataFrame(columns=['sharpe_ratio'])\n",
    "\n",
    "# Расчитываем доходность портфеля каждый день, но ребалансировку делаем через каждые shift дней\n",
    "s = 0\n",
    "d0 = ''\n",
    "d1 = ''\n",
    "last = 0\n",
    "for day in tqdm_notebook(range(rolling-1, price.index.size-1)):\n",
    "    # каждые shift дней заново оптимизируем портфель\n",
    "    if s == 0:\n",
    "        #print('Оптимизируем. day = ', day)\n",
    "        d0 = index[day-rolling+1]\n",
    "        d1 = index[day]\n",
    "#         print('d0 = ', d0, 'd1 = ', d1)\n",
    "        p = price.loc[d0:d1]\n",
    "        opt_res = opt_max_sharpe_ratio(p, risk_free_rate)\n",
    "        #opt_res = opt_targeted_risk(p, TargetRisk)\n",
    "        #opt_res = opt_targeted_return(p, TargetReturn)\n",
    "        if(opt_res['success']==True):\n",
    "            portfolio_alloc = np.array(opt_res['x'])\n",
    "            distribution[index[day].strftime('%Y-%m-%d')] = portfolio_alloc\n",
    "            #distribution[index[day]] = portfolio_alloc\n",
    "            #sharpe_ratio.loc[index[day]] = -1*opt_res['fun']\n",
    "        else:\n",
    "            print('ERROR: ', opt_res['message'])\n",
    "    \n",
    "    # Вычисление доходности портфеля\n",
    "    date0 = d1\n",
    "    date1 = index[day+1]\n",
    "#     if (s==0):\n",
    "#         print('date0 = ', date0, 'date1 = ', date1)\n",
    "    a_return = (price.loc[date1] - price.loc[date0])/price.loc[date0]\n",
    "    if (p_returns.size!=0 and s==0):\n",
    "        last = p_returns.iloc[-1].values\n",
    "        #last = 0\n",
    "    p_returns.loc[index[day+1]] = np.sum(a_return*portfolio_alloc) + last\n",
    "    \n",
    "    # Ведем отсчет дней до новой оптимизации портфеля\n",
    "    s = s + 1\n",
    "    if s == shift:\n",
    "        s = 0\n",
    "        #print(day)"
   ]
  },
  {
   "cell_type": "markdown",
   "metadata": {},
   "source": [
    "Считаем Максимальную доходность по Шарпу для данных начиная с rolling-1"
   ]
  },
  {
   "cell_type": "code",
   "execution_count": 33,
   "metadata": {},
   "outputs": [],
   "source": [
    "p = price.iloc[rolling-1:]\n",
    "sharpe_max = opt_max_sharpe_ratio(p, risk_free_rate)\n",
    "portfolio_alloc = sharpe_max['x']\n",
    "\n",
    "index = p.index\n",
    "sharpe_max_returns = pd.DataFrame(columns=['returns'])\n",
    "for day in range(1, p.index.size):\n",
    "    # Вычисляем доходность портфеля\n",
    "    date0 = index[0]\n",
    "    date1 = index[day]\n",
    "    a_return = (p.loc[date1] - p.loc[date0])/p.loc[date0]\n",
    "    sharpe_max_returns.loc[index[day]] = np.sum(a_return*portfolio_alloc)"
   ]
  },
  {
   "cell_type": "code",
   "execution_count": 34,
   "metadata": {},
   "outputs": [
    {
     "name": "stdout",
     "output_type": "stream",
     "text": [
      "ALRS \t 6.8\n",
      "CBOM \t 28.7\n",
      "DSKY \t 2.8\n",
      "MAGN \t 2.4\n",
      "MVID \t 1.4\n",
      "PIKK \t 16.7\n",
      "PLZL \t 8.3\n",
      "POLY \t 4.4\n",
      "TATN \t 0.3\n",
      "TATNP \t 19.3\n",
      "TRNFP \t 7.6\n",
      "YNDX \t 1.2\n"
     ]
    }
   ],
   "source": [
    "# Выводит список акций и их доли в портфеле\n",
    "portfolio_alloc = []\n",
    "shares = price.columns[np.where(sharpe_max['x']>0.001)]\n",
    "weight = sharpe_max['x'][sharpe_max['x']>0.001]\n",
    "\n",
    "for i in range(len(shares)):\n",
    "    print(shares[i], '\\t', round(weight[i]*100,1))\n",
    "    portfolio_alloc.append(weight[i])"
   ]
  },
  {
   "cell_type": "markdown",
   "metadata": {},
   "source": [
    "Строим итоговый график\n",
    "\n"
   ]
  },
  {
   "cell_type": "code",
   "execution_count": 35,
   "metadata": {},
   "outputs": [
    {
     "data": {
      "image/png": "[encoded data removed]",
      "text/plain": [
       "<Figure size 720x360 with 1 Axes>"
      ]
     },
     "metadata": {
      "needs_background": "light"
     },
     "output_type": "display_data"
    }
   ],
   "source": [
    "plt.figure(figsize=(10,5))\n",
    "\n",
    "gray_line = mlines.Line2D([], [], color='gray', linewidth=1, label='Доходность акций')\n",
    "#plt.plot(price.iloc[rolling-1:].pct_change().cumsum(),'gray', linewidth=1, alpha=0.5)\n",
    "\n",
    "red_line = mlines.Line2D([], [], color='red', linewidth=3, label='Доходность портфеля')\n",
    "plt.plot(p_returns, 'red', linewidth=2)\n",
    "\n",
    "blue_line = mlines.Line2D([], [], color='blue', linewidth=3, label='Индекс Московской Биржи')\n",
    "plt.plot(imoex[price.iloc[rolling-1:].index[0]:].pct_change().cumsum(), 'blue', linewidth=2)\n",
    "\n",
    "green_line = mlines.Line2D([], [], color='green', linewidth=3, label='Максимальня доходность по Шарпу')\n",
    "plt.plot(sharpe_max_returns, 'green', linewidth=2)\n",
    "\n",
    "\n",
    "plt.grid(True, linestyle='--')\n",
    "plt.title('Доходность портфеля, доходности акций и Индекс Московской Биржи')\n",
    "plt.xlabel('Дата')\n",
    "plt.ylabel('Доходность')\n",
    "plt.legend(handles=[gray_line, red_line, blue_line, green_line])\n",
    "plt.tight_layout();"
   ]
  },
  {
   "cell_type": "markdown",
   "metadata": {},
   "source": [
    "## Подбор параметров"
   ]
  },
  {
   "cell_type": "code",
   "execution_count": 78,
   "metadata": {},
   "outputs": [],
   "source": [
    "# Через сколько дней переоптимизируем портфель\n",
    "shift = 60\n",
    "\n",
    "# Rolling window (days)\n",
    "rolling = 250\n",
    "\n",
    "# Безрисковая процентная ставка\n",
    "risk_free_rate = 0.00\n",
    "\n",
    "# Заданный риск портфеля для оптимизации\n",
    "TargetRisk = 0.17\n",
    "\n",
    "# Заданная доходность портфеля для оптимизации\n",
    "TargetReturn = 0.20\n",
    "\n",
    "num_periods_annually = 252 # Количество операционных дней в году"
   ]
  },
  {
   "cell_type": "markdown",
   "metadata": {},
   "source": [
    "Запускаем бэктестинг. Расчитываем доходность портфеля каждый день, но ребалансировку делаем через каждые **shift** дней"
   ]
  },
  {
   "cell_type": "code",
   "execution_count": 89,
   "metadata": {},
   "outputs": [
    {
     "data": {
      "application/vnd.jupyter.widget-view+json": {
       "model_id": "fd6fe9ab725348a5b45f9e1af70abd56",
       "version_major": 2,
       "version_minor": 0
      },
      "text/plain": [
       "HBox(children=(IntProgress(value=0, description='rolling', max=3, style=ProgressStyle(description_width='initi…"
      ]
     },
     "metadata": {},
     "output_type": "display_data"
    },
    {
     "data": {
      "application/vnd.jupyter.widget-view+json": {
       "model_id": "",
       "version_major": 2,
       "version_minor": 0
      },
      "text/plain": [
       "HBox(children=(IntProgress(value=0, description='shift', max=5, style=ProgressStyle(description_width='initial…"
      ]
     },
     "metadata": {},
     "output_type": "display_data"
    },
    {
     "data": {
      "application/vnd.jupyter.widget-view+json": {
       "model_id": "",
       "version_major": 2,
       "version_minor": 0
      },
      "text/plain": [
       "HBox(children=(IntProgress(value=0, description='day', max=1870, style=ProgressStyle(description_width='initia…"
      ]
     },
     "metadata": {},
     "output_type": "display_data"
    },
    {
     "data": {
      "application/vnd.jupyter.widget-view+json": {
       "model_id": "",
       "version_major": 2,
       "version_minor": 0
      },
      "text/plain": [
       "HBox(children=(IntProgress(value=0, description='day', max=1870, style=ProgressStyle(description_width='initia…"
      ]
     },
     "metadata": {},
     "output_type": "display_data"
    },
    {
     "data": {
      "application/vnd.jupyter.widget-view+json": {
       "model_id": "",
       "version_major": 2,
       "version_minor": 0
      },
      "text/plain": [
       "HBox(children=(IntProgress(value=0, description='day', max=1870, style=ProgressStyle(description_width='initia…"
      ]
     },
     "metadata": {},
     "output_type": "display_data"
    },
    {
     "data": {
      "application/vnd.jupyter.widget-view+json": {
       "model_id": "",
       "version_major": 2,
       "version_minor": 0
      },
      "text/plain": [
       "HBox(children=(IntProgress(value=0, description='day', max=1870, style=ProgressStyle(description_width='initia…"
      ]
     },
     "metadata": {},
     "output_type": "display_data"
    },
    {
     "data": {
      "application/vnd.jupyter.widget-view+json": {
       "model_id": "",
       "version_major": 2,
       "version_minor": 0
      },
      "text/plain": [
       "HBox(children=(IntProgress(value=0, description='day', max=1870, style=ProgressStyle(description_width='initia…"
      ]
     },
     "metadata": {},
     "output_type": "display_data"
    },
    {
     "data": {
      "application/vnd.jupyter.widget-view+json": {
       "model_id": "",
       "version_major": 2,
       "version_minor": 0
      },
      "text/plain": [
       "HBox(children=(IntProgress(value=0, description='shift', max=5, style=ProgressStyle(description_width='initial…"
      ]
     },
     "metadata": {},
     "output_type": "display_data"
    },
    {
     "data": {
      "application/vnd.jupyter.widget-view+json": {
       "model_id": "",
       "version_major": 2,
       "version_minor": 0
      },
      "text/plain": [
       "HBox(children=(IntProgress(value=0, description='day', max=1820, style=ProgressStyle(description_width='initia…"
      ]
     },
     "metadata": {},
     "output_type": "display_data"
    },
    {
     "data": {
      "application/vnd.jupyter.widget-view+json": {
       "model_id": "",
       "version_major": 2,
       "version_minor": 0
      },
      "text/plain": [
       "HBox(children=(IntProgress(value=0, description='day', max=1820, style=ProgressStyle(description_width='initia…"
      ]
     },
     "metadata": {},
     "output_type": "display_data"
    },
    {
     "data": {
      "application/vnd.jupyter.widget-view+json": {
       "model_id": "",
       "version_major": 2,
       "version_minor": 0
      },
      "text/plain": [
       "HBox(children=(IntProgress(value=0, description='day', max=1820, style=ProgressStyle(description_width='initia…"
      ]
     },
     "metadata": {},
     "output_type": "display_data"
    },
    {
     "data": {
      "application/vnd.jupyter.widget-view+json": {
       "model_id": "",
       "version_major": 2,
       "version_minor": 0
      },
      "text/plain": [
       "HBox(children=(IntProgress(value=0, description='day', max=1820, style=ProgressStyle(description_width='initia…"
      ]
     },
     "metadata": {},
     "output_type": "display_data"
    },
    {
     "data": {
      "application/vnd.jupyter.widget-view+json": {
       "model_id": "",
       "version_major": 2,
       "version_minor": 0
      },
      "text/plain": [
       "HBox(children=(IntProgress(value=0, description='day', max=1820, style=ProgressStyle(description_width='initia…"
      ]
     },
     "metadata": {},
     "output_type": "display_data"
    },
    {
     "data": {
      "application/vnd.jupyter.widget-view+json": {
       "model_id": "",
       "version_major": 2,
       "version_minor": 0
      },
      "text/plain": [
       "HBox(children=(IntProgress(value=0, description='shift', max=5, style=ProgressStyle(description_width='initial…"
      ]
     },
     "metadata": {},
     "output_type": "display_data"
    },
    {
     "data": {
      "application/vnd.jupyter.widget-view+json": {
       "model_id": "",
       "version_major": 2,
       "version_minor": 0
      },
      "text/plain": [
       "HBox(children=(IntProgress(value=0, description='day', max=1770, style=ProgressStyle(description_width='initia…"
      ]
     },
     "metadata": {},
     "output_type": "display_data"
    },
    {
     "data": {
      "application/vnd.jupyter.widget-view+json": {
       "model_id": "",
       "version_major": 2,
       "version_minor": 0
      },
      "text/plain": [
       "HBox(children=(IntProgress(value=0, description='day', max=1770, style=ProgressStyle(description_width='initia…"
      ]
     },
     "metadata": {},
     "output_type": "display_data"
    },
    {
     "data": {
      "application/vnd.jupyter.widget-view+json": {
       "model_id": "",
       "version_major": 2,
       "version_minor": 0
      },
      "text/plain": [
       "HBox(children=(IntProgress(value=0, description='day', max=1770, style=ProgressStyle(description_width='initia…"
      ]
     },
     "metadata": {},
     "output_type": "display_data"
    },
    {
     "data": {
      "application/vnd.jupyter.widget-view+json": {
       "model_id": "",
       "version_major": 2,
       "version_minor": 0
      },
      "text/plain": [
       "HBox(children=(IntProgress(value=0, description='day', max=1770, style=ProgressStyle(description_width='initia…"
      ]
     },
     "metadata": {},
     "output_type": "display_data"
    },
    {
     "data": {
      "application/vnd.jupyter.widget-view+json": {
       "model_id": "",
       "version_major": 2,
       "version_minor": 0
      },
      "text/plain": [
       "HBox(children=(IntProgress(value=0, description='day', max=1770, style=ProgressStyle(description_width='initia…"
      ]
     },
     "metadata": {},
     "output_type": "display_data"
    }
   ],
   "source": [
    "ret_rolling = []\n",
    "for rolling in tqdm_notebook(range(100, 250, 50), desc='rolling'):\n",
    "    ret_shift = []\n",
    "    for shift in tqdm_notebook(range(5, 250, 50), desc='shift', leave=False):\n",
    "        # Расчитываем доходность портфеля каждый день, но ребалансировку делаем через каждые shift дней\n",
    "        s = 0\n",
    "        d0 = ''\n",
    "        d1 = ''\n",
    "        last = 0\n",
    "        index = price.index\n",
    "        p_returns = pd.DataFrame(columns=['p_returns'])\n",
    "        distribution = pd.DataFrame(index=price.columns)\n",
    "        portfolio_alloc = 0\n",
    "        for day in tqdm_notebook(range(rolling-1, price.index.size-1), desc='day', leave=False):\n",
    "            # каждые shift дней заново оптимизируем портфель\n",
    "            if s == 0:\n",
    "                d0 = index[day-rolling+1]\n",
    "                d1 = index[day]\n",
    "                p = price.loc[d0:d1]\n",
    "                opt_res = opt_max_sharpe_ratio(p, risk_free_rate)\n",
    "                if(opt_res['success']==True):\n",
    "                    portfolio_alloc = np.array(opt_res['x'])\n",
    "                    distribution[index[day].strftime('%Y-%m-%d')] = portfolio_alloc\n",
    "                else:\n",
    "                    #print('ERROR: ', opt_res['message'])\n",
    "                    pass\n",
    "\n",
    "            # доходность портфеля\n",
    "            date0 = d1\n",
    "            date1 = index[day+1]\n",
    "            a_return = (price.loc[date1] - price.loc[date0])/price.loc[date0]\n",
    "            if (p_returns.size!=0 and s==0):\n",
    "                last = p_returns.iloc[-1].values\n",
    "            p_returns.loc[index[day+1]] = np.sum(a_return*portfolio_alloc) + last\n",
    "\n",
    "            # Ведем отсчет дней до новой оптимизации портфеля\n",
    "            s = s + 1\n",
    "            if s == shift:\n",
    "                s = 0\n",
    "        ret_shift.append(p_returns.iloc[-1].values[0])\n",
    "    ret_rolling.append(ret_shift)"
   ]
  },
  {
   "cell_type": "code",
   "execution_count": 137,
   "metadata": {},
   "outputs": [
    {
     "data": {
      "application/vnd.jupyter.widget-view+json": {
       "model_id": "95df40f667874a268c0fff9f826936d4",
       "version_major": 2,
       "version_minor": 0
      },
      "text/plain": [
       "HBox(children=(IntProgress(value=0, description='rolling', max=24, style=ProgressStyle(description_width='init…"
      ]
     },
     "metadata": {},
     "output_type": "display_data"
    }
   ],
   "source": [
    "ret_rolling = []\n",
    "for rolling in tqdm_notebook(range(10, 250, 10), desc='rolling'):\n",
    "    ret_shift = []\n",
    "    for shift in range(5, 250, 5):\n",
    "        d0 = ''\n",
    "        d1 = ''\n",
    "        last = 0\n",
    "        index = price.index\n",
    "        p_returns = pd.DataFrame(columns=['p_returns'])\n",
    "        distribution = pd.DataFrame(index=price.columns)\n",
    "        portfolio_alloc = 0\n",
    "        for day in range(rolling-1, price.index.size, shift):\n",
    "            # каждые shift дней заново оптимизируем портфель\n",
    "            # 99-100+1=0\n",
    "            d0 = index[day-rolling+1]\n",
    "            # 99\n",
    "            d1 = index[day]\n",
    "            p = price.loc[d0:d1]\n",
    "            opt_res = opt_max_sharpe_ratio(p, risk_free_rate)\n",
    "            if(opt_res['success']==True):\n",
    "                portfolio_alloc = np.array(opt_res['x'])\n",
    "                distribution[index[day].strftime('%Y-%m-%d')] = portfolio_alloc\n",
    "            else:\n",
    "                #print('ERROR: ', opt_res['message'])\n",
    "                pass\n",
    "\n",
    "            # Calculating portfolio return\n",
    "            # 99\n",
    "            date0 = d1\n",
    "            # 99+5=104\n",
    "            if (day+shift > price.index.size):\n",
    "                date1 = index[-1]\n",
    "            else:\n",
    "                date1 = index[day+shift]\n",
    "            a_return = (price.loc[date1] - price.loc[date0])/price.loc[date0]\n",
    "            if (p_returns.size!=0):\n",
    "                last = p_returns.iloc[-1].values\n",
    "            p_returns.loc[date1] = np.sum(a_return*portfolio_alloc) + last\n",
    "            \n",
    "            \n",
    "        ret_shift.append(p_returns.iloc[-1].values[0])\n",
    "        #print('shift = ', shift, 'day = ', day, ' sum = ', day+shift)\n",
    "        #sys.stdout.flush()\n",
    "    ret_rolling.append(ret_shift)\n",
    "    "
   ]
  },
  {
   "cell_type": "markdown",
   "metadata": {},
   "source": [
    "### Строим 3D график эффективных границ"
   ]
  },
  {
   "cell_type": "code",
   "execution_count": null,
   "metadata": {},
   "outputs": [],
   "source": [
    "import plotly\n",
    "import plotly.graph_objs as go\n",
    "from plotly.offline import init_notebook_mode\n",
    "\n",
    "#для вывода plotly-графиков в ноутбуке\n",
    "init_notebook_mode(connected=False)"
   ]
  },
  {
   "cell_type": "code",
   "execution_count": 138,
   "metadata": {},
   "outputs": [],
   "source": [
    "x = [i for i in range(10, 250, 10)]\n",
    "y = [i for i in range(5, 250, 5)]\n",
    "z = np.array(ret_rolling)"
   ]
  },
  {
   "cell_type": "code",
   "execution_count": 139,
   "metadata": {},
   "outputs": [],
   "source": [
    "data = [\n",
    "    go.Surface(\n",
    "        x=x,\n",
    "        y=y,\n",
    "        z=z\n",
    "    )\n",
    "]"
   ]
  },
  {
   "cell_type": "code",
   "execution_count": 140,
   "metadata": {},
   "outputs": [],
   "source": [
    "layout = go.Layout(\n",
    "    title='Эффективные границы',\n",
    "    width=800,\n",
    "    height=700,\n",
    "    scene=dict(\n",
    "        xaxis=dict(\n",
    "            title='shift',\n",
    "            gridcolor='rgb(255, 255, 255)',\n",
    "            zerolinecolor='rgb(255, 255, 255)',\n",
    "            showbackground=True,\n",
    "            backgroundcolor='rgb(230, 230,230)'\n",
    "        ),\n",
    "        yaxis=dict(\n",
    "            title='rolling',\n",
    "            gridcolor='rgb(255, 255, 255)',\n",
    "            zerolinecolor='rgb(255, 255, 255)',\n",
    "            showbackground=True,\n",
    "            backgroundcolor='rgb(230, 230,230)'\n",
    "        ),\n",
    "        zaxis=dict(title='Доходность',\n",
    "                   gridcolor='rgb(255, 255, 255)',\n",
    "                   zerolinecolor='rgb(255, 255, 255)',\n",
    "                   showbackground=True,\n",
    "                   backgroundcolor='rgb(230, 230,230)'\n",
    "                  )\n",
    "    )\n",
    ")"
   ]
  },
  {
   "cell_type": "code",
   "execution_count": 141,
   "metadata": {},
   "outputs": [
    {
     "data": {
      "application/vnd.plotly.v1+json": {
       "config": {
        "linkText": "Export to plot.ly",
        "plotlyServerURL": "https://plot.ly",
        "showLink": false
       },
       "data": [
        {
         "type": "surface",
         "uid": "f46af007-d9bf-4ca1-869b-540039c7991b",
         "x": [
          10,
          20,
          30,
          40,
          50,
          60,
          70,
          80,
          90,
          100,
          110,
          120,
          130,
          140,
          150,
          160,
          170,
          180,
          190,
          200,
          210,
          220,
          230,
          240
         ],
         "y": [
          5,
          10,
          15,
          20,
          25,
          30,
          35,
          40,
          45,
          50,
          55,
          60,
          65,
          70,
          75,
          80,
          85,
          90,
          95,
          100,
          105,
          110,
          115,
          120,
          125,
          130,
          135,
          140,
          145,
          150,
          155,
          160,
          165,
          170,
          175,
          180,
          185,
          190,
          195,
          200,
          205,
          210,
          215,
          220,
          225,
          230,
          235,
          240,
          245
         ],
         "z": [
          [
           0.4623883313406869,
           0.23178862236555753,
           0.30480461968457884,
           0.5900814206984774,
           0.8107045384204384,
           0.7163266296397062,
           0.47053018155510085,
           0.6047255697196693,
           0.7309348782853813,
           0.4350085957017887,
           0.7263260578158264,
           0.7176964455034988,
           1.1154274767311336,
           0.6498207086023973,
           0.18019877244189822,
           0.6889980457722656,
           0.6277084570972334,
           0.47647446824468453,
           0.17343942814891283,
           0.20547421685860792,
           -0.2863939977453488,
           0.6061376033281938,
           0.20152404359243295,
           0.6650236220449854,
           0.44155765067661323,
           1.0590952238553144,
           0.7143815067501985,
           0.0668845712662863,
           0.9928845362573365,
           0.4279098761273389,
           0.5286582788276751,
           -0.2463211547667074,
           -0.09615567743277328,
           -0.14857943103943064,
           0.7798123825439406,
           0.6073444320253949,
           0.9927570288765416,
           0.08064641579219314,
           0.6671255407629786,
           1.455448990609582,
           0.7407471666061229,
           0.30638388777048214,
           1.2443156418472767,
           0.9648939907983645,
           1.1884216439393231,
           0.966731206305222,
           1.4158787971977096,
           0.6891793072398942,
           0.5673615127883994
          ],
          [
           0.4182568560395362,
           0.4236167039077455,
           0.14952477177584106,
           0.5830849549686968,
           0.37235902254360775,
           0.20750142700385196,
           0.15714062771703546,
           0.45915733656981184,
           0.2419760642798403,
           0.6065513799849968,
           0.6421620271927705,
           0.046079932348911376,
           -0.07402686737324994,
           0.07340839851033391,
           0.03232181729511187,
           0.11263774428646803,
           0.6348183249916638,
           0.03765889802742198,
           0.563030801854619,
           0.549322599576596,
           0.01745341654219132,
           1.1458876797753492,
           0.5813199492420449,
           0.6530454437170284,
           1.565231375772267,
           0.0860177490797066,
           -0.3394406015713798,
           -0.08533416374221398,
           1.1399084603168665,
           0.4785372281302077,
           0.6450914050000589,
           0.1362054149003118,
           -0.1416909740032189,
           0.051245507339479544,
           0.8966809005411279,
           0.7399198128899673,
           1.0576639205762701,
           1.1538572735426271,
           1.1786704244833561,
           0.8944262768695436,
           0.8635188355206154,
           0.4505778061732982,
           1.4138553889576566,
           1.6226244212621805,
           1.543234947559207,
           0.649799830112732,
           0.7067080314988239,
           1.176217220060247,
           0.10459027045445896
          ],
          [
           0.4394120751114121,
           0.28024748421894935,
           0.5890317103422444,
           0.45080238155393154,
           0.4748771794644987,
           0.3125991987565196,
           0.8084933955160132,
           0.5533535010767996,
           0.4291843436485955,
           0.5407414155620678,
           -0.0934770921725929,
           0.48556352016245424,
           -0.1557423609420648,
           0.03234514894174119,
           0.16873488696378114,
           -0.23029950090171997,
           0.28167997143215745,
           0.24410565350714256,
           0.7024880900802603,
           0.4195581641137735,
           0.3325855612527533,
           1.269373078428355,
           1.09137548452684,
           -0.23254169726692978,
           1.687089329433097,
           0.16996104672083923,
           -0.2158982197142746,
           -0.028395442152021624,
           1.1190617013284723,
           0.09460807175458627,
           0.8265569637486185,
           -0.059955582922475326,
           0.3100857062360387,
           0.0013161848318482862,
           1.02699237505402,
           0.7786206792383985,
           1.22833587502167,
           1.1033128326427106,
           0.9438033555789538,
           0.7968175066418073,
           0.6017286687322047,
           0.6979108045242021,
           2.1195582393693257,
           1.242420332904197,
           0.8214104939946266,
           1.4031749707516765,
           0.6047187131709655,
           0.4359413011241459,
           0.4719550406440637
          ],
          [
           0.3648967775787123,
           0.5000920107305561,
           0.5598740816960306,
           0.5187603491363063,
           0.6176173984807273,
           0.6209956139965263,
           0.6348893604546064,
           0.21671724753063823,
           0.49081580970123717,
           -0.4117671794917668,
           0.9432857514596077,
           0.5033891933260405,
           0.6020170739967865,
           0.12981118239272713,
           -0.2873419888493816,
           0.1394463289037676,
           0.6710575432295143,
           0.7798945863665581,
           1.0903113722822861,
           0.42286960218265823,
           0.42777238485612246,
           1.1420924125225491,
           0.6653882464116668,
           -0.2906828268890194,
           1.2014236937747427,
           0.7649783120444852,
           0.27543965855545577,
           -0.04045440094856263,
           0.6758933810541112,
           0.4556299062145787,
           0.8153587294794337,
           0.19692520010511574,
           0.5686615150156906,
           0.5979810633655618,
           0.33898896989011795,
           0.6995156543283675,
           0.9778730192342867,
           0.9407632945717496,
           1.2591001359649312,
           0.9395989325286194,
           0.6597545857782331,
           0.9466928913836902,
           1.750244209574185,
           1.2591747970478575,
           0.7936253364157454,
           0.8989663660224041,
           0.9195390880569376,
           0.14875881570031116,
           0.5936671910290375
          ],
          [
           0.24575972268345234,
           0.6481963474859379,
           0.24008478442209777,
           0.7598801079467933,
           0.5512437874696932,
           0.7515433154523405,
           0.6107675039061683,
           0.5757157666345475,
           0.7807403343209575,
           -0.13278247999946047,
           1.1093714620156212,
           0.9849572617979033,
           0.7930119930496838,
           0.23523696908591782,
           0.4884496382587913,
           0.8873747367997529,
           0.3472241210811884,
           1.047253813272414,
           1.3114942824029792,
           1.0733800758112848,
           0.465271224538335,
           1.0367373222548506,
           0.717167837027894,
           0.09085418020705402,
           1.327958635083313,
           0.677771247903683,
           0.03464275088571917,
           -0.09430667308196014,
           0.9788291286170054,
           0.6091168958437649,
           1.1136143971535204,
           0.7272800443891145,
           0.9196100809997454,
           0.3620567359243604,
           1.52112780607304,
           1.0498884140098281,
           1.3393161670221339,
           1.515006777575592,
           1.2373942670775042,
           0.9062995464148211,
           1.0018199228938185,
           0.7124990514809952,
           1.5800148456400718,
           1.3000753056844105,
           0.9611811319241736,
           0.8695757301410644,
           0.48820119389110284,
           0.3895812860292147,
           1.2171873847638257
          ],
          [
           0.14582312826251564,
           0.4858041701817799,
           0.5453795915209182,
           0.62891443299982,
           0.8100049391079132,
           0.3521558741061815,
           0.490449253525308,
           0.727447326152747,
           0.734147718369011,
           0.5407300382606042,
           0.9234105356930548,
           0.4747083815474152,
           0.9824746854034114,
           0.44894846176654013,
           0.7625230126940858,
           1.2429830146361265,
           1.0012862089223158,
           0.8775871167466516,
           1.3439682970057192,
           0.26345284183068113,
           1.2318757495975228,
           0.8803474601487162,
           0.9537349170196595,
           0.33325821088838026,
           0.8728877098661234,
           0.6041305485337372,
           0.1883864857066082,
           0.40803702813383635,
           0.670409146486536,
           1.092243835012153,
           1.4921804022801848,
           0.8195904643968241,
           0.9712250763294232,
           0.9314942857693549,
           1.094634520639076,
           1.1688594630162372,
           1.5990554109404602,
           1.6880235923048488,
           1.3342936561786043,
           0.8413246274995247,
           0.9564818606082125,
           1.461425863395715,
           1.4414262345075182,
           0.9186980074958702,
           0.9933666718270548,
           1.0752334912132329,
           0.5007301922106958,
           0.7519563081303245,
           1.191877049106303
          ],
          [
           0.2676101261225442,
           0.3848311441807728,
           0.32796185868893785,
           0.34510105273173525,
           0.7211161700203959,
           0.8072817356641128,
           0.5082230991799767,
           0.24319816016719564,
           0.5790638681968668,
           0.7057784803288885,
           1.5648181900766622,
           0.7285701655400685,
           0.9733675781548485,
           0.6981404118297089,
           1.3602113191135274,
           1.4102379949687895,
           0.8704675389521743,
           1.0330191942496951,
           1.2291382904217887,
           0.30683668127419317,
           1.0811978761202934,
           1.2384667504923426,
           0.47366263000776154,
           0.6929587906062896,
           1.1262554653968184,
           1.0278966584421578,
           0.30636167403980596,
           0.8588804503897804,
           1.139478689839798,
           1.8973934670451802,
           1.2993921346274162,
           0.813198541308588,
           1.2197312802211795,
           0.9160011939556129,
           1.2675193359993493,
           1.5998171861871975,
           1.4903563413235887,
           1.7146899520484367,
           1.6857811775565137,
           0.6484149799909673,
           1.271642186670435,
           1.5452446525470913,
           1.3353753856191697,
           1.097918042926464,
           1.0589772905570047,
           0.8535315081579792,
           0.6969014594656601,
           1.4052617311290474,
           1.664328012112959
          ],
          [
           0.4665903382533594,
           0.5072345234957388,
           0.8789086947157452,
           0.7847403466861297,
           0.9704590496725854,
           0.7626974502633509,
           0.8507055310719501,
           0.6636441427637391,
           0.9402769604715261,
           1.2782139776803214,
           1.298502839758862,
           0.7028636075123766,
           1.242494431192627,
           1.06103469327393,
           1.7866290791048867,
           1.413686596337269,
           1.2965065807200213,
           1.0807614549421678,
           1.5711281682456568,
           1.0777832403594108,
           1.2514840950229413,
           0.9213666551733283,
           0.5179045672855362,
           0.8485258577194769,
           1.4545327928285046,
           1.3034915873164823,
           1.1469840502238735,
           1.2649257591909353,
           2.0188666598800413,
           2.203306774216898,
           1.416190291551965,
           1.3819768676179596,
           1.327675152469749,
           1.026030543775524,
           1.4253600184390756,
           2.0626885953384377,
           1.6208028937904893,
           1.6097656322828966,
           1.4904182897371974,
           0.9967946559806898,
           1.8294785371181246,
           1.52109231217787,
           1.1736728933185254,
           0.9498215942641101,
           1.3443292145231802,
           0.7562732142397968,
           1.4077384654256824,
           1.780484698584205,
           1.9287785828390398
          ],
          [
           0.6938404132806488,
           0.8649777501384245,
           0.9298043054296489,
           1.0556932137390638,
           1.1503651934438412,
           0.9603464732091477,
           1.3348461766379485,
           1.2113190144492847,
           1.5985349600440655,
           1.2591121768188716,
           1.2741036947059332,
           1.0375612331008752,
           1.3389063087874107,
           1.5092501277158066,
           1.4551105641365276,
           1.5788091769167283,
           1.806650700529673,
           1.6763095186521828,
           1.7330956337847123,
           0.9572576767506162,
           1.4839402751982211,
           1.0894818907281485,
           1.0811531801330287,
           1.5502637772783618,
           1.6586476018723728,
           1.2170074787916438,
           1.5101419097729676,
           1.9138683851144023,
           1.9235350651593723,
           1.7059346709984418,
           1.3471311500770002,
           1.4398212604273866,
           1.1878254469729714,
           1.1674020689098294,
           1.726547908147874,
           2.171400763511116,
           1.7257370363989566,
           1.513342806227498,
           1.731136404842432,
           1.7044602595871425,
           1.567910091360337,
           1.3331032992170178,
           1.1147913797802187,
           1.0987200694108405,
           1.267502527941139,
           0.9597388378345426,
           1.9420465780280534,
           2.1446539854106894,
           1.8714304129861306
          ],
          [
           1.2448543311018234,
           1.079952374781424,
           1.33292409852421,
           1.273902972076601,
           1.327055915770869,
           1.6483408814102762,
           1.4574325962900838,
           1.6775809980171896,
           1.6920011495928553,
           1.3590069058288754,
           1.584963775955521,
           1.1187080030478265,
           1.1847962040934565,
           1.2713365873098657,
           1.5765146251790014,
           1.379391625459085,
           1.692820767618627,
           1.7922698524554583,
           1.8556606535885318,
           0.9721883882950475,
           1.4695843705020686,
           1.7475268714536498,
           1.6304018070223945,
           1.9002516294903415,
           1.4808307185959768,
           1.602803096067669,
           1.679585591850715,
           1.5721029470348935,
           1.817103986591961,
           1.8127241992581578,
           1.36138005717581,
           1.503115596151474,
           1.1286564141981494,
           1.3143787900368284,
           2.10628031122593,
           1.6933041530003057,
           1.55863105795241,
           1.3575026532609025,
           2.0667714879617276,
           1.6072325453228786,
           1.8464405287121226,
           1.2127635531985241,
           1.0437267325184647,
           1.452641452976456,
           1.0524872401986776,
           1.3965328150720697,
           2.1582652751174987,
           2.0288699192507704,
           2.3752732324676114
          ],
          [
           1.3421758901634826,
           1.4652143816292884,
           1.6152352797240266,
           1.736316360232973,
           1.4344645105444793,
           1.6876256330677193,
           1.1350946604502903,
           1.3685151473787305,
           1.8165342378722902,
           1.4277958159234774,
           1.2083247914383934,
           1.3413637027539973,
           1.0420142039668998,
           0.8002819653624039,
           1.295158521726461,
           1.027248103990077,
           1.4535932950732726,
           1.2358944200184385,
           1.4583010312697018,
           1.7099411760310204,
           1.3711676491993154,
           1.5431392280512806,
           1.6998090360823497,
           1.8500859310991846,
           1.3532531384485906,
           1.5854574188045154,
           1.554335939538892,
           1.4842538062319177,
           2.1630386701079556,
           1.7066032082815084,
           1.641213542482459,
           1.3691939893802312,
           0.9969514542470272,
           1.3971275210690761,
           2.294121432865733,
           1.497524996727944,
           1.5496326272567744,
           1.275973653720409,
           1.5678411913423131,
           1.7650296560684429,
           1.4678802247167695,
           1.2544421150734641,
           0.9108146135613907,
           1.2455381546665099,
           1.3108745461703177,
           2.0148883840257,
           2.5062084117493133,
           2.1451666364096016,
           2.1010047776032668
          ],
          [
           1.433574034786765,
           1.5041812803576835,
           1.536534305570475,
           1.3831772455766398,
           1.6034029037586908,
           1.3408255455430642,
           1.310383652855478,
           1.0986969043761805,
           1.2965053282904637,
           1.087509252049285,
           1.2221849238790679,
           0.8029721368839247,
           0.818000560238351,
           0.9926694196352448,
           1.1813693573524313,
           0.8179111954210468,
           1.240240400880967,
           1.5080267878415996,
           1.550736230875316,
           1.5573368164691463,
           1.4124551079412,
           1.7438621308816455,
           1.6040828620415941,
           1.524753102950374,
           1.4614153138667512,
           1.8203354202878579,
           1.441090774976548,
           1.5734569871849866,
           2.175590537307134,
           1.6943732598078718,
           1.6203455085990282,
           1.2395357075475075,
           1.4866786809182337,
           1.828507227021318,
           1.9721332955047106,
           1.4549172618174957,
           1.3060258939592826,
           1.5679376003345211,
           1.7489496820648007,
           1.4489941082720985,
           1.2046129223182862,
           0.9345421951237218,
           1.339727013006029,
           1.3006092138185028,
           2.412839347473724,
           2.2435060547048193,
           2.2837520449143116,
           1.891163433313613,
           1.7656162837190685
          ],
          [
           1.2440633284576232,
           1.4527344058651368,
           1.4604128422161562,
           1.5274503124251908,
           1.6002942641748976,
           1.3680473457817062,
           1.2381495325489622,
           1.3223128403847213,
           1.252891197447442,
           1.0856892861111669,
           1.1677645154579235,
           1.1109453714537822,
           0.9604608273765537,
           1.08800847390209,
           1.552389747923753,
           1.3773169652713886,
           1.4066463773499907,
           1.5662939858109477,
           1.7218595062153492,
           1.8855862646513872,
           1.4975318006917702,
           1.7597790357051961,
           1.7694804432527145,
           1.7834006821511974,
           1.2164981601180562,
           1.5035376227953448,
           1.6711375913277104,
           1.600431808317915,
           1.8619239987647689,
           1.7983254190563627,
           1.9058725849995242,
           1.178106236327217,
           1.3645606077915384,
           2.23441188793766,
           1.854038058999906,
           1.6521139248008547,
           1.3385387872433887,
           1.49493961748652,
           1.6321671165971894,
           1.4680961551072012,
           1.2405085079147504,
           1.0726573238699835,
           1.4922804155181912,
           1.607095069780256,
           2.148405785570943,
           2.2407711014923777,
           2.25370302819326,
           2.3478449772494905,
           1.7209609769551981
          ],
          [
           1.1762126464567915,
           1.2932769354359688,
           1.2884475664236474,
           1.1545273863405938,
           1.2816805997395504,
           1.1409937360405629,
           1.3463683533212785,
           1.2089954837544856,
           1.31194520705099,
           0.9249754049072256,
           0.9965479371474341,
           1.1298326819712525,
           1.0571501649520432,
           1.4761592764256721,
           1.5259618042169978,
           1.4951504876764639,
           1.7518059241120087,
           1.6076237695687314,
           1.5304693600814263,
           1.7372904573689252,
           1.552116373179599,
           1.8766015473056519,
           1.606542338353945,
           1.61611853745638,
           1.1800879217352562,
           1.7574229243670276,
           1.671269890579682,
           1.7457048199658676,
           1.6199563051215649,
           1.8316961903015523,
           2.0117022949927432,
           0.8658008842464787,
           1.4046932377231967,
           1.9222416966903604,
           1.7635808867074774,
           1.4830305125806074,
           1.4342428718184923,
           1.508672023189414,
           1.5687953858516337,
           1.349165964245899,
           1.0771966744341581,
           1.3016456702784065,
           1.490933891153559,
           1.951595208338458,
           2.21255944504466,
           2.2929000322260973,
           2.1373310524320637,
           1.6503923384749433,
           1.2745901231795187
          ],
          [
           1.2036449568672762,
           1.334078755291136,
           1.253689745397411,
           1.4197626441042268,
           1.3361306700204967,
           1.1624504652765661,
           1.4820288653131413,
           1.311327496007465,
           1.3034355492776841,
           1.1090361854151896,
           1.1859855102050934,
           1.6253384974146465,
           1.363444575376664,
           1.9510670599213338,
           1.662877886856816,
           1.938681976969744,
           1.6288627465498307,
           1.8504995542240819,
           2.109709360166518,
           1.9955561471886805,
           1.718432738700489,
           1.8034039651467766,
           1.904491831092338,
           1.656829752005771,
           1.6100965010891897,
           1.913635594457198,
           1.65531170130667,
           2.1745629313461103,
           2.0440942503073622,
           1.850010860309101,
           1.7900009775915868,
           1.2842984206978927,
           1.451398126039977,
           1.7751654974663753,
           1.8558385794802306,
           1.5375619656390682,
           1.504654265571167,
           1.6530766942665318,
           1.6504647274620041,
           1.5124246203530087,
           1.030879119257268,
           1.3783116849100845,
           1.7652366414620064,
           2.370795940700264,
           2.169371263396753,
           2.0764150983342535,
           1.9938116487464996,
           1.8956139539966477,
           1.6851602884137222
          ],
          [
           1.2822598973677675,
           1.4425764530312815,
           1.5571356580559694,
           1.3726531332748555,
           1.3507574878141784,
           1.6803083664010965,
           1.2177732011662645,
           1.1329407662664117,
           1.1663106212212997,
           1.5476249595104565,
           1.7317039138423393,
           1.8664634592184421,
           1.4053118181726916,
           1.8963083897591453,
           1.9488897055703613,
           1.7822546443344949,
           1.6941836782281716,
           1.8413709013157735,
           1.8456967472232386,
           1.695027601857036,
           1.6508409451505794,
           1.668671465301358,
           1.8024292887144249,
           1.4149267259397542,
           1.7582943942962868,
           2.0574918603062042,
           1.4967079454328547,
           1.8721388439564846,
           2.1426949144078975,
           1.9284686817989465,
           1.361047710956725,
           1.3378390747950115,
           1.573415619487451,
           1.9870650365809135,
           1.8397260578280967,
           1.550954372666824,
           1.8833319479118342,
           1.6697533590239082,
           1.3860688143876903,
           1.0722225644120225,
           1.2397986286500207,
           1.7101163619764068,
           2.218596742602023,
           1.8140210758816577,
           1.9741895527835815,
           1.9459006991634875,
           1.3535408068281158,
           1.7474063697796745,
           1.5984648778804433
          ],
          [
           1.2744850966752015,
           1.3496740502425373,
           1.3549141210167024,
           1.4017826376585973,
           1.5457325875358436,
           1.4444387656543154,
           1.3748505134863873,
           1.3423461185305225,
           1.2890244115913214,
           1.834249203352653,
           1.7081157607795565,
           1.6320063468374124,
           1.6714201221558527,
           1.7454780159795327,
           1.9404968323965603,
           1.7117694614075245,
           1.6873903563898067,
           1.77487724235502,
           1.6698527775892018,
           1.6800283775470877,
           2.0948445843781855,
           1.5543417369500607,
           1.768169003314736,
           1.392978351727017,
           1.5631275166437777,
           1.8813547339491712,
           1.6122359074036334,
           2.057247469693708,
           1.8943180657068592,
           1.7112863833777818,
           1.3766282053900931,
           1.3300336500350312,
           1.4350399781349414,
           2.0966285846952206,
           2.159188396264231,
           1.477137519202281,
           1.699327942478324,
           1.331473377837512,
           1.6922662531131885,
           1.2416514339180635,
           1.4711242015799062,
           1.8366920394566322,
           2.024953859772708,
           1.772723223825692,
           2.0808444807721247,
           1.8364024243329704,
           1.6040200178535853,
           1.6378676962459948,
           1.5895156507743236
          ],
          [
           1.2314625238542531,
           1.4065583574283114,
           1.3932349809067772,
           1.4767025660588615,
           1.595688366608992,
           1.4817649695277615,
           1.7598718164020057,
           1.6699347177488717,
           1.8078003262844509,
           1.7783480052470204,
           1.687140287589266,
           1.3992096119960136,
           1.5056160219413548,
           1.899666370555268,
           1.528000567371344,
           1.5340767036356284,
           1.8876094248526103,
           1.9550302052644035,
           1.8481015657336008,
           1.6329567328400902,
           2.0272566095783353,
           1.7868279011124089,
           1.684582753984382,
           1.6723593609668448,
           1.4103832156154834,
           1.7730932942992732,
           1.7332922055149453,
           2.200910358843073,
           1.9811479054467662,
           1.4374522544924049,
           1.3284767345819355,
           1.28128249294243,
           1.8501512857111697,
           2.2241027732992906,
           1.6819606081018332,
           1.48795997492804,
           1.6381402205497488,
           1.4461623683613074,
           1.1473958264295332,
           0.9641575684921503,
           1.5089554080044556,
           1.970297750663521,
           1.7775681843537876,
           1.7091784802290046,
           2.005401783206221,
           1.610712084798175,
           2.0119572645892996,
           1.6297160390763883,
           1.5589015379151379
          ],
          [
           1.2984614358449882,
           1.437847827900707,
           1.4820297453446494,
           1.6264071651167313,
           1.6208075396364765,
           1.8034984011900896,
           1.5757630975709171,
           1.802102891248848,
           1.8646351953202964,
           1.6380165194350953,
           1.883948624273321,
           1.7549408367737287,
           1.6124608140057004,
           1.4668923965055882,
           1.4791483638101794,
           1.7266506801078456,
           1.6964941186693996,
           1.975409990322443,
           1.7173869234022485,
           1.6145528569448546,
           1.8952062905821847,
           1.6785949250736745,
           1.466415578990184,
           1.7253593131835905,
           1.6181344615412967,
           1.5579139109304305,
           1.7185374871225598,
           1.8219862103195568,
           1.6538237013080972,
           1.6318235439868518,
           1.8773097145827415,
           1.3388969962124913,
           1.7784685514707976,
           1.9587899653901555,
           1.7536392772824656,
           1.7176998244191126,
           1.3467088731767902,
           1.2281745928173875,
           1.1062152587157164,
           1.1684145967650612,
           1.94080609511588,
           1.8037986565371429,
           1.658091564662253,
           1.816381014178926,
           1.628186304513324,
           1.6862836913075252,
           1.629230789738795,
           1.5817334681258368,
           1.3296847418550046
          ],
          [
           1.1887155688015085,
           1.3780686834085982,
           1.4297674262076963,
           1.4924071763822213,
           1.5668513383598368,
           1.507742280165433,
           1.6847455924138632,
           1.6799869501710254,
           1.6502469327453202,
           1.4543706544312887,
           1.6435892412392938,
           1.5560509172569508,
           1.7673054239217263,
           1.6517065119455068,
           1.3823446594995636,
           1.5342820458331525,
           1.4209532446871591,
           1.7695097576289363,
           1.5716452786124806,
           1.4060670440709957,
           1.6276680494238354,
           1.503737817065984,
           1.3076631475843943,
           1.777093252840695,
           1.7684987071830296,
           1.834982786924718,
           1.6525675506121087,
           1.8128121157985768,
           1.9154055438880118,
           1.7055220939999158,
           1.6181824836719616,
           1.2859126205197084,
           1.592593997728895,
           1.786899949094987,
           1.7511226850924437,
           1.2288691424837292,
           1.1778577811839885,
           1.0179715187285379,
           1.0514330316323284,
           1.5179092523780993,
           1.819416616265518,
           1.6592104505145826,
           1.8361293571880317,
           1.711348651750782,
           1.2655181933663466,
           1.6222716893509854,
           1.621318494899978,
           1.5259607899592718,
           1.1136256469730739
          ],
          [
           1.3159222541987794,
           1.4637339650603078,
           1.3968393652343942,
           1.6162692441294373,
           1.3704811207265897,
           1.399997830013708,
           1.5265302744618452,
           1.5824349999314022,
           1.2728702841145507,
           1.5325715619711844,
           1.705344769151361,
           1.3941335312925107,
           1.6550753796856004,
           1.659491407651274,
           1.3798216865370303,
           1.5292430044160803,
           1.6056444663574005,
           1.58477277526104,
           1.47626216280046,
           1.6703956397344806,
           1.6002462684876966,
           1.377334578867912,
           1.5392069576122096,
           1.740766422960297,
           1.4923944655490071,
           1.7313910767670326,
           2.099956351897413,
           1.8084630925741791,
           1.4408615960393123,
           1.5737201661565992,
           1.501596419835349,
           1.2463077044123383,
           1.6315975594949965,
           1.6378167537723738,
           1.4660494352570204,
           1.0908465174737558,
           1.2065785561606113,
           0.9978281215843317,
           1.0974292191455681,
           1.5514189601513724,
           1.6177457323902975,
           1.5225369674925302,
           1.760870505249824,
           1.7399516109733886,
           1.5741299220057139,
           1.7735506711205158,
           1.5940028288271384,
           1.1730916582959865,
           1.0666738307541705
          ],
          [
           1.4073770077375025,
           1.5595699376187837,
           1.5857810841391464,
           1.6181252765698124,
           1.6993970959841935,
           1.7602274119098307,
           1.5235227800289795,
           1.6579033661652847,
           1.6226402315401902,
           1.7558016970683312,
           1.4157798189301178,
           1.4492386547427596,
           1.7856912572929335,
           1.8643481172863827,
           1.6584247105155427,
           1.6509778758523048,
           1.8556533755254625,
           1.7803050030839753,
           1.575825977681097,
           1.8620200782962049,
           1.535688128001543,
           1.3364912221416758,
           1.7620575919391004,
           1.7605228100802954,
           2.0115459073914073,
           1.6765918133781068,
           1.8780440539947763,
           1.6556271468741521,
           1.7080709688718134,
           1.7547639946413343,
           1.3702772718445178,
           1.4659232502573485,
           1.6606177391707262,
           1.913855214336434,
           1.5766148023852087,
           1.1262986833591913,
           1.1750999927002819,
           1.117097247365142,
           1.5038141527356892,
           1.548784990239155,
           1.7150306596287102,
           1.8916598958156599,
           1.8138280553093427,
           1.4709619699710899,
           1.6981412188561689,
           1.8428973565313238,
           1.539914977716008,
           1.5739609272701578,
           1.269158623241913
          ],
          [
           1.4111380904710524,
           1.5479962724400886,
           1.6253644946238555,
           1.717631249260699,
           1.5688587731078631,
           1.7087728865057368,
           1.5996225288016068,
           1.8140136137972345,
           1.8770564511391865,
           1.4810702648788903,
           1.5286846894954,
           1.6249227035380358,
           1.7659168491792574,
           1.7078579235617033,
           1.7263660664230067,
           1.846929266336954,
           1.7382834933555527,
           1.8302465908535612,
           1.6673232990437619,
           1.5957449837745108,
           1.648229817656598,
           1.3325540156206368,
           1.8935308866985108,
           1.9041530528140833,
           1.4760207809808175,
           1.5757190638223533,
           1.7173660913563369,
           1.6082077704669813,
           1.6811258663268414,
           1.6085572003975979,
           1.39751561528701,
           1.4593691322543103,
           1.6938741621715707,
           1.772256259748859,
           1.2315211894152407,
           1.2729656733233146,
           1.3019094482291882,
           1.4331684547307946,
           1.3971107668769176,
           1.5921314260600399,
           1.760258735640336,
           1.8984289788946458,
           1.5465297061692416,
           1.7763595026027088,
           1.841791971079306,
           1.6630130076154064,
           1.5584779853334592,
           1.5846253439643407,
           1.3371092476956215
          ],
          [
           1.496007447620443,
           1.6248425435641336,
           1.6477723823055639,
           1.5993569277703275,
           1.6475306434187622,
           1.5604005347676313,
           1.7429432054620146,
           1.6431733884197255,
           1.7951240212297837,
           1.7200212183195422,
           1.7420667132037275,
           1.5102298631734221,
           1.411767190476875,
           1.5494557617950184,
           1.8363866450234918,
           1.6928361465757096,
           1.6388522235824818,
           1.5711989373326194,
           1.83496679440295,
           1.8008800983782112,
           1.6050886659504737,
           1.6259264039777606,
           1.8062982827390877,
           1.7688832000151373,
           1.0703880748450023,
           1.6158506590433073,
           1.6514129322233837,
           1.6126666723101166,
           1.5442639325285312,
           1.7139962750585376,
           1.284420137331494,
           1.4533478798392974,
           1.542202895225389,
           1.6788875542326351,
           1.2779252250986297,
           0.9857459615826419,
           1.839229877454983,
           1.3999264852971183,
           1.4507683507754894,
           1.697663078442699,
           1.933208150194282,
           1.850356920991223,
           1.7249384314803164,
           2.056373013431553,
           1.884696640521989,
           1.6848620742600402,
           1.7528991269001448,
           1.4572921905432314,
           1.3638371511755178
          ]
         ]
        }
       ],
       "layout": {
        "height": 700,
        "scene": {
         "aspectmode": "auto",
         "aspectratio": {
          "x": 1,
          "y": 1,
          "z": 1
         },
         "camera": {
          "center": {
           "x": 0,
           "y": 0,
           "z": 0
          },
          "eye": {
           "x": 1.4555437089319214,
           "y": -2.066414159174915,
           "z": 1.4422546576297366
          },
          "up": {
           "x": 0,
           "y": 0,
           "z": 1
          }
         },
         "xaxis": {
          "backgroundcolor": "rgb(230, 230,230)",
          "gridcolor": "rgb(255, 255, 255)",
          "showbackground": true,
          "title": {
           "text": "shift"
          },
          "type": "linear",
          "zerolinecolor": "rgb(255, 255, 255)"
         },
         "yaxis": {
          "backgroundcolor": "rgb(230, 230,230)",
          "gridcolor": "rgb(255, 255, 255)",
          "showbackground": true,
          "title": {
           "text": "rolling"
          },
          "type": "linear",
          "zerolinecolor": "rgb(255, 255, 255)"
         },
         "zaxis": {
          "backgroundcolor": "rgb(230, 230,230)",
          "gridcolor": "rgb(255, 255, 255)",
          "showbackground": true,
          "title": {
           "text": "Доходность"
          },
          "zerolinecolor": "rgb(255, 255, 255)"
         }
        },
        "title": {
         "text": "Эффективные границы"
        },
        "width": 800
       }
      },
      "image/png": "[encoded data removed]",
      "text/html": [
       "<div id=\"129aa27d-74f9-4b8b-9631-0889e970e2b2\" style=\"height: 700px; width: 800px;\" class=\"plotly-graph-div\"></div><script type=\"text/javascript\">require([\"plotly\"], function(Plotly) { window.PLOTLYENV=window.PLOTLYENV || {};window.PLOTLYENV.BASE_URL=\"https://plot.ly\";Plotly.newPlot(\"129aa27d-74f9-4b8b-9631-0889e970e2b2\", [{\"x\": [10, 20, 30, 40, 50, 60, 70, 80, 90, 100, 110, 120, 130, 140, 150, 160, 170, 180, 190, 200, 210, 220, 230, 240], \"y\": [5, 10, 15, 20, 25, 30, 35, 40, 45, 50, 55, 60, 65, 70, 75, 80, 85, 90, 95, 100, 105, 110, 115, 120, 125, 130, 135, 140, 145, 150, 155, 160, 165, 170, 175, 180, 185, 190, 195, 200, 205, 210, 215, 220, 225, 230, 235, 240, 245], \"z\": [[0.4623883313406869, 0.23178862236555753, 0.30480461968457884, 0.5900814206984774, 0.8107045384204384, 0.7163266296397062, 0.47053018155510085, 0.6047255697196693, 0.7309348782853813, 0.4350085957017887, 0.7263260578158264, 0.7176964455034988, 1.1154274767311336, 0.6498207086023973, 0.18019877244189822, 0.6889980457722656, 0.6277084570972334, 0.47647446824468453, 0.17343942814891283, 0.20547421685860792, -0.2863939977453488, 0.6061376033281938, 0.20152404359243295, 0.6650236220449854, 0.44155765067661323, 1.0590952238553144, 0.7143815067501985, 0.0668845712662863, 0.9928845362573365, 0.4279098761273389, 0.5286582788276751, -0.2463211547667074, -0.09615567743277328, -0.14857943103943064, 0.7798123825439406, 0.6073444320253949, 0.9927570288765416, 0.08064641579219314, 0.6671255407629786, 1.455448990609582, 0.7407471666061229, 0.30638388777048214, 1.2443156418472767, 0.9648939907983645, 1.1884216439393231, 0.966731206305222, 1.4158787971977096, 0.6891793072398942, 0.5673615127883994], [0.4182568560395362, 0.4236167039077455, 0.14952477177584106, 0.5830849549686968, 0.37235902254360775, 0.20750142700385196, 0.15714062771703546, 0.45915733656981184, 0.2419760642798403, 0.6065513799849968, 0.6421620271927705, 0.046079932348911376, -0.07402686737324994, 0.07340839851033391, 0.03232181729511187, 0.11263774428646803, 0.6348183249916638, 0.03765889802742198, 0.563030801854619, 0.549322599576596, 0.01745341654219132, 1.1458876797753492, 0.5813199492420449, 0.6530454437170284, 1.565231375772267, 0.0860177490797066, -0.3394406015713798, -0.08533416374221398, 1.1399084603168665, 0.4785372281302077, 0.6450914050000589, 0.1362054149003118, -0.1416909740032189, 0.051245507339479544, 0.8966809005411279, 0.7399198128899673, 1.0576639205762701, 1.1538572735426271, 1.1786704244833561, 0.8944262768695436, 0.8635188355206154, 0.4505778061732982, 1.4138553889576566, 1.6226244212621805, 1.543234947559207, 0.649799830112732, 0.7067080314988239, 1.176217220060247, 0.10459027045445896], [0.4394120751114121, 0.28024748421894935, 0.5890317103422444, 0.45080238155393154, 0.4748771794644987, 0.3125991987565196, 0.8084933955160132, 0.5533535010767996, 0.4291843436485955, 0.5407414155620678, -0.0934770921725929, 0.48556352016245424, -0.1557423609420648, 0.03234514894174119, 0.16873488696378114, -0.23029950090171997, 0.28167997143215745, 0.24410565350714256, 0.7024880900802603, 0.4195581641137735, 0.3325855612527533, 1.269373078428355, 1.09137548452684, -0.23254169726692978, 1.687089329433097, 0.16996104672083923, -0.2158982197142746, -0.028395442152021624, 1.1190617013284723, 0.09460807175458627, 0.8265569637486185, -0.059955582922475326, 0.3100857062360387, 0.0013161848318482862, 1.02699237505402, 0.7786206792383985, 1.22833587502167, 1.1033128326427106, 0.9438033555789538, 0.7968175066418073, 0.6017286687322047, 0.6979108045242021, 2.1195582393693257, 1.242420332904197, 0.8214104939946266, 1.4031749707516765, 0.6047187131709655, 0.4359413011241459, 0.4719550406440637], [0.3648967775787123, 0.5000920107305561, 0.5598740816960306, 0.5187603491363063, 0.6176173984807273, 0.6209956139965263, 0.6348893604546064, 0.21671724753063823, 0.49081580970123717, -0.4117671794917668, 0.9432857514596077, 0.5033891933260405, 0.6020170739967865, 0.12981118239272713, -0.2873419888493816, 0.1394463289037676, 0.6710575432295143, 0.7798945863665581, 1.0903113722822861, 0.42286960218265823, 0.42777238485612246, 1.1420924125225491, 0.6653882464116668, -0.2906828268890194, 1.2014236937747427, 0.7649783120444852, 0.27543965855545577, -0.04045440094856263, 0.6758933810541112, 0.4556299062145787, 0.8153587294794337, 0.19692520010511574, 0.5686615150156906, 0.5979810633655618, 0.33898896989011795, 0.6995156543283675, 0.9778730192342867, 0.9407632945717496, 1.2591001359649312, 0.9395989325286194, 0.6597545857782331, 0.9466928913836902, 1.750244209574185, 1.2591747970478575, 0.7936253364157454, 0.8989663660224041, 0.9195390880569376, 0.14875881570031116, 0.5936671910290375], [0.24575972268345234, 0.6481963474859379, 0.24008478442209777, 0.7598801079467933, 0.5512437874696932, 0.7515433154523405, 0.6107675039061683, 0.5757157666345475, 0.7807403343209575, -0.13278247999946047, 1.1093714620156212, 0.9849572617979033, 0.7930119930496838, 0.23523696908591782, 0.4884496382587913, 0.8873747367997529, 0.3472241210811884, 1.047253813272414, 1.3114942824029792, 1.0733800758112848, 0.465271224538335, 1.0367373222548506, 0.717167837027894, 0.09085418020705402, 1.327958635083313, 0.677771247903683, 0.03464275088571917, -0.09430667308196014, 0.9788291286170054, 0.6091168958437649, 1.1136143971535204, 0.7272800443891145, 0.9196100809997454, 0.3620567359243604, 1.52112780607304, 1.0498884140098281, 1.3393161670221339, 1.515006777575592, 1.2373942670775042, 0.9062995464148211, 1.0018199228938185, 0.7124990514809952, 1.5800148456400718, 1.3000753056844105, 0.9611811319241736, 0.8695757301410644, 0.48820119389110284, 0.3895812860292147, 1.2171873847638257], [0.14582312826251564, 0.4858041701817799, 0.5453795915209182, 0.62891443299982, 0.8100049391079132, 0.3521558741061815, 0.490449253525308, 0.727447326152747, 0.734147718369011, 0.5407300382606042, 0.9234105356930548, 0.4747083815474152, 0.9824746854034114, 0.44894846176654013, 0.7625230126940858, 1.2429830146361265, 1.0012862089223158, 0.8775871167466516, 1.3439682970057192, 0.26345284183068113, 1.2318757495975228, 0.8803474601487162, 0.9537349170196595, 0.33325821088838026, 0.8728877098661234, 0.6041305485337372, 0.1883864857066082, 0.40803702813383635, 0.670409146486536, 1.092243835012153, 1.4921804022801848, 0.8195904643968241, 0.9712250763294232, 0.9314942857693549, 1.094634520639076, 1.1688594630162372, 1.5990554109404602, 1.6880235923048488, 1.3342936561786043, 0.8413246274995247, 0.9564818606082125, 1.461425863395715, 1.4414262345075182, 0.9186980074958702, 0.9933666718270548, 1.0752334912132329, 0.5007301922106958, 0.7519563081303245, 1.191877049106303], [0.2676101261225442, 0.3848311441807728, 0.32796185868893785, 0.34510105273173525, 0.7211161700203959, 0.8072817356641128, 0.5082230991799767, 0.24319816016719564, 0.5790638681968668, 0.7057784803288885, 1.5648181900766622, 0.7285701655400685, 0.9733675781548485, 0.6981404118297089, 1.3602113191135274, 1.4102379949687895, 0.8704675389521743, 1.0330191942496951, 1.2291382904217887, 0.30683668127419317, 1.0811978761202934, 1.2384667504923426, 0.47366263000776154, 0.6929587906062896, 1.1262554653968184, 1.0278966584421578, 0.30636167403980596, 0.8588804503897804, 1.139478689839798, 1.8973934670451802, 1.2993921346274162, 0.813198541308588, 1.2197312802211795, 0.9160011939556129, 1.2675193359993493, 1.5998171861871975, 1.4903563413235887, 1.7146899520484367, 1.6857811775565137, 0.6484149799909673, 1.271642186670435, 1.5452446525470913, 1.3353753856191697, 1.097918042926464, 1.0589772905570047, 0.8535315081579792, 0.6969014594656601, 1.4052617311290474, 1.664328012112959], [0.4665903382533594, 0.5072345234957388, 0.8789086947157452, 0.7847403466861297, 0.9704590496725854, 0.7626974502633509, 0.8507055310719501, 0.6636441427637391, 0.9402769604715261, 1.2782139776803214, 1.298502839758862, 0.7028636075123766, 1.242494431192627, 1.06103469327393, 1.7866290791048867, 1.413686596337269, 1.2965065807200213, 1.0807614549421678, 1.5711281682456568, 1.0777832403594108, 1.2514840950229413, 0.9213666551733283, 0.5179045672855362, 0.8485258577194769, 1.4545327928285046, 1.3034915873164823, 1.1469840502238735, 1.2649257591909353, 2.0188666598800413, 2.203306774216898, 1.416190291551965, 1.3819768676179596, 1.327675152469749, 1.026030543775524, 1.4253600184390756, 2.0626885953384377, 1.6208028937904893, 1.6097656322828966, 1.4904182897371974, 0.9967946559806898, 1.8294785371181246, 1.52109231217787, 1.1736728933185254, 0.9498215942641101, 1.3443292145231802, 0.7562732142397968, 1.4077384654256824, 1.780484698584205, 1.9287785828390398], [0.6938404132806488, 0.8649777501384245, 0.9298043054296489, 1.0556932137390638, 1.1503651934438412, 0.9603464732091477, 1.3348461766379485, 1.2113190144492847, 1.5985349600440655, 1.2591121768188716, 1.2741036947059332, 1.0375612331008752, 1.3389063087874107, 1.5092501277158066, 1.4551105641365276, 1.5788091769167283, 1.806650700529673, 1.6763095186521828, 1.7330956337847123, 0.9572576767506162, 1.4839402751982211, 1.0894818907281485, 1.0811531801330287, 1.5502637772783618, 1.6586476018723728, 1.2170074787916438, 1.5101419097729676, 1.9138683851144023, 1.9235350651593723, 1.7059346709984418, 1.3471311500770002, 1.4398212604273866, 1.1878254469729714, 1.1674020689098294, 1.726547908147874, 2.171400763511116, 1.7257370363989566, 1.513342806227498, 1.731136404842432, 1.7044602595871425, 1.567910091360337, 1.3331032992170178, 1.1147913797802187, 1.0987200694108405, 1.267502527941139, 0.9597388378345426, 1.9420465780280534, 2.1446539854106894, 1.8714304129861306], [1.2448543311018234, 1.079952374781424, 1.33292409852421, 1.273902972076601, 1.327055915770869, 1.6483408814102762, 1.4574325962900838, 1.6775809980171896, 1.6920011495928553, 1.3590069058288754, 1.584963775955521, 1.1187080030478265, 1.1847962040934565, 1.2713365873098657, 1.5765146251790014, 1.379391625459085, 1.692820767618627, 1.7922698524554583, 1.8556606535885318, 0.9721883882950475, 1.4695843705020686, 1.7475268714536498, 1.6304018070223945, 1.9002516294903415, 1.4808307185959768, 1.602803096067669, 1.679585591850715, 1.5721029470348935, 1.817103986591961, 1.8127241992581578, 1.36138005717581, 1.503115596151474, 1.1286564141981494, 1.3143787900368284, 2.10628031122593, 1.6933041530003057, 1.55863105795241, 1.3575026532609025, 2.0667714879617276, 1.6072325453228786, 1.8464405287121226, 1.2127635531985241, 1.0437267325184647, 1.452641452976456, 1.0524872401986776, 1.3965328150720697, 2.1582652751174987, 2.0288699192507704, 2.3752732324676114], [1.3421758901634826, 1.4652143816292884, 1.6152352797240266, 1.736316360232973, 1.4344645105444793, 1.6876256330677193, 1.1350946604502903, 1.3685151473787305, 1.8165342378722902, 1.4277958159234774, 1.2083247914383934, 1.3413637027539973, 1.0420142039668998, 0.8002819653624039, 1.295158521726461, 1.027248103990077, 1.4535932950732726, 1.2358944200184385, 1.4583010312697018, 1.7099411760310204, 1.3711676491993154, 1.5431392280512806, 1.6998090360823497, 1.8500859310991846, 1.3532531384485906, 1.5854574188045154, 1.554335939538892, 1.4842538062319177, 2.1630386701079556, 1.7066032082815084, 1.641213542482459, 1.3691939893802312, 0.9969514542470272, 1.3971275210690761, 2.294121432865733, 1.497524996727944, 1.5496326272567744, 1.275973653720409, 1.5678411913423131, 1.7650296560684429, 1.4678802247167695, 1.2544421150734641, 0.9108146135613907, 1.2455381546665099, 1.3108745461703177, 2.0148883840257, 2.5062084117493133, 2.1451666364096016, 2.1010047776032668], [1.433574034786765, 1.5041812803576835, 1.536534305570475, 1.3831772455766398, 1.6034029037586908, 1.3408255455430642, 1.310383652855478, 1.0986969043761805, 1.2965053282904637, 1.087509252049285, 1.2221849238790679, 0.8029721368839247, 0.818000560238351, 0.9926694196352448, 1.1813693573524313, 0.8179111954210468, 1.240240400880967, 1.5080267878415996, 1.550736230875316, 1.5573368164691463, 1.4124551079412, 1.7438621308816455, 1.6040828620415941, 1.524753102950374, 1.4614153138667512, 1.8203354202878579, 1.441090774976548, 1.5734569871849866, 2.175590537307134, 1.6943732598078718, 1.6203455085990282, 1.2395357075475075, 1.4866786809182337, 1.828507227021318, 1.9721332955047106, 1.4549172618174957, 1.3060258939592826, 1.5679376003345211, 1.7489496820648007, 1.4489941082720985, 1.2046129223182862, 0.9345421951237218, 1.339727013006029, 1.3006092138185028, 2.412839347473724, 2.2435060547048193, 2.2837520449143116, 1.891163433313613, 1.7656162837190685], [1.2440633284576232, 1.4527344058651368, 1.4604128422161562, 1.5274503124251908, 1.6002942641748976, 1.3680473457817062, 1.2381495325489622, 1.3223128403847213, 1.252891197447442, 1.0856892861111669, 1.1677645154579235, 1.1109453714537822, 0.9604608273765537, 1.08800847390209, 1.552389747923753, 1.3773169652713886, 1.4066463773499907, 1.5662939858109477, 1.7218595062153492, 1.8855862646513872, 1.4975318006917702, 1.7597790357051961, 1.7694804432527145, 1.7834006821511974, 1.2164981601180562, 1.5035376227953448, 1.6711375913277104, 1.600431808317915, 1.8619239987647689, 1.7983254190563627, 1.9058725849995242, 1.178106236327217, 1.3645606077915384, 2.23441188793766, 1.854038058999906, 1.6521139248008547, 1.3385387872433887, 1.49493961748652, 1.6321671165971894, 1.4680961551072012, 1.2405085079147504, 1.0726573238699835, 1.4922804155181912, 1.607095069780256, 2.148405785570943, 2.2407711014923777, 2.25370302819326, 2.3478449772494905, 1.7209609769551981], [1.1762126464567915, 1.2932769354359688, 1.2884475664236474, 1.1545273863405938, 1.2816805997395504, 1.1409937360405629, 1.3463683533212785, 1.2089954837544856, 1.31194520705099, 0.9249754049072256, 0.9965479371474341, 1.1298326819712525, 1.0571501649520432, 1.4761592764256721, 1.5259618042169978, 1.4951504876764639, 1.7518059241120087, 1.6076237695687314, 1.5304693600814263, 1.7372904573689252, 1.552116373179599, 1.8766015473056519, 1.606542338353945, 1.61611853745638, 1.1800879217352562, 1.7574229243670276, 1.671269890579682, 1.7457048199658676, 1.6199563051215649, 1.8316961903015523, 2.0117022949927432, 0.8658008842464787, 1.4046932377231967, 1.9222416966903604, 1.7635808867074774, 1.4830305125806074, 1.4342428718184923, 1.508672023189414, 1.5687953858516337, 1.349165964245899, 1.0771966744341581, 1.3016456702784065, 1.490933891153559, 1.951595208338458, 2.21255944504466, 2.2929000322260973, 2.1373310524320637, 1.6503923384749433, 1.2745901231795187], [1.2036449568672762, 1.334078755291136, 1.253689745397411, 1.4197626441042268, 1.3361306700204967, 1.1624504652765661, 1.4820288653131413, 1.311327496007465, 1.3034355492776841, 1.1090361854151896, 1.1859855102050934, 1.6253384974146465, 1.363444575376664, 1.9510670599213338, 1.662877886856816, 1.938681976969744, 1.6288627465498307, 1.8504995542240819, 2.109709360166518, 1.9955561471886805, 1.718432738700489, 1.8034039651467766, 1.904491831092338, 1.656829752005771, 1.6100965010891897, 1.913635594457198, 1.65531170130667, 2.1745629313461103, 2.0440942503073622, 1.850010860309101, 1.7900009775915868, 1.2842984206978927, 1.451398126039977, 1.7751654974663753, 1.8558385794802306, 1.5375619656390682, 1.504654265571167, 1.6530766942665318, 1.6504647274620041, 1.5124246203530087, 1.030879119257268, 1.3783116849100845, 1.7652366414620064, 2.370795940700264, 2.169371263396753, 2.0764150983342535, 1.9938116487464996, 1.8956139539966477, 1.6851602884137222], [1.2822598973677675, 1.4425764530312815, 1.5571356580559694, 1.3726531332748555, 1.3507574878141784, 1.6803083664010965, 1.2177732011662645, 1.1329407662664117, 1.1663106212212997, 1.5476249595104565, 1.7317039138423393, 1.8664634592184421, 1.4053118181726916, 1.8963083897591453, 1.9488897055703613, 1.7822546443344949, 1.6941836782281716, 1.8413709013157735, 1.8456967472232386, 1.695027601857036, 1.6508409451505794, 1.668671465301358, 1.8024292887144249, 1.4149267259397542, 1.7582943942962868, 2.0574918603062042, 1.4967079454328547, 1.8721388439564846, 2.1426949144078975, 1.9284686817989465, 1.361047710956725, 1.3378390747950115, 1.573415619487451, 1.9870650365809135, 1.8397260578280967, 1.550954372666824, 1.8833319479118342, 1.6697533590239082, 1.3860688143876903, 1.0722225644120225, 1.2397986286500207, 1.7101163619764068, 2.218596742602023, 1.8140210758816577, 1.9741895527835815, 1.9459006991634875, 1.3535408068281158, 1.7474063697796745, 1.5984648778804433], [1.2744850966752015, 1.3496740502425373, 1.3549141210167024, 1.4017826376585973, 1.5457325875358436, 1.4444387656543154, 1.3748505134863873, 1.3423461185305225, 1.2890244115913214, 1.834249203352653, 1.7081157607795565, 1.6320063468374124, 1.6714201221558527, 1.7454780159795327, 1.9404968323965603, 1.7117694614075245, 1.6873903563898067, 1.77487724235502, 1.6698527775892018, 1.6800283775470877, 2.0948445843781855, 1.5543417369500607, 1.768169003314736, 1.392978351727017, 1.5631275166437777, 1.8813547339491712, 1.6122359074036334, 2.057247469693708, 1.8943180657068592, 1.7112863833777818, 1.3766282053900931, 1.3300336500350312, 1.4350399781349414, 2.0966285846952206, 2.159188396264231, 1.477137519202281, 1.699327942478324, 1.331473377837512, 1.6922662531131885, 1.2416514339180635, 1.4711242015799062, 1.8366920394566322, 2.024953859772708, 1.772723223825692, 2.0808444807721247, 1.8364024243329704, 1.6040200178535853, 1.6378676962459948, 1.5895156507743236], [1.2314625238542531, 1.4065583574283114, 1.3932349809067772, 1.4767025660588615, 1.595688366608992, 1.4817649695277615, 1.7598718164020057, 1.6699347177488717, 1.8078003262844509, 1.7783480052470204, 1.687140287589266, 1.3992096119960136, 1.5056160219413548, 1.899666370555268, 1.528000567371344, 1.5340767036356284, 1.8876094248526103, 1.9550302052644035, 1.8481015657336008, 1.6329567328400902, 2.0272566095783353, 1.7868279011124089, 1.684582753984382, 1.6723593609668448, 1.4103832156154834, 1.7730932942992732, 1.7332922055149453, 2.200910358843073, 1.9811479054467662, 1.4374522544924049, 1.3284767345819355, 1.28128249294243, 1.8501512857111697, 2.2241027732992906, 1.6819606081018332, 1.48795997492804, 1.6381402205497488, 1.4461623683613074, 1.1473958264295332, 0.9641575684921503, 1.5089554080044556, 1.970297750663521, 1.7775681843537876, 1.7091784802290046, 2.005401783206221, 1.610712084798175, 2.0119572645892996, 1.6297160390763883, 1.5589015379151379], [1.2984614358449882, 1.437847827900707, 1.4820297453446494, 1.6264071651167313, 1.6208075396364765, 1.8034984011900896, 1.5757630975709171, 1.802102891248848, 1.8646351953202964, 1.6380165194350953, 1.883948624273321, 1.7549408367737287, 1.6124608140057004, 1.4668923965055882, 1.4791483638101794, 1.7266506801078456, 1.6964941186693996, 1.975409990322443, 1.7173869234022485, 1.6145528569448546, 1.8952062905821847, 1.6785949250736745, 1.466415578990184, 1.7253593131835905, 1.6181344615412967, 1.5579139109304305, 1.7185374871225598, 1.8219862103195568, 1.6538237013080972, 1.6318235439868518, 1.8773097145827415, 1.3388969962124913, 1.7784685514707976, 1.9587899653901555, 1.7536392772824656, 1.7176998244191126, 1.3467088731767902, 1.2281745928173875, 1.1062152587157164, 1.1684145967650612, 1.94080609511588, 1.8037986565371429, 1.658091564662253, 1.816381014178926, 1.628186304513324, 1.6862836913075252, 1.629230789738795, 1.5817334681258368, 1.3296847418550046], [1.1887155688015085, 1.3780686834085982, 1.4297674262076963, 1.4924071763822213, 1.5668513383598368, 1.507742280165433, 1.6847455924138632, 1.6799869501710254, 1.6502469327453202, 1.4543706544312887, 1.6435892412392938, 1.5560509172569508, 1.7673054239217263, 1.6517065119455068, 1.3823446594995636, 1.5342820458331525, 1.4209532446871591, 1.7695097576289363, 1.5716452786124806, 1.4060670440709957, 1.6276680494238354, 1.503737817065984, 1.3076631475843943, 1.777093252840695, 1.7684987071830296, 1.834982786924718, 1.6525675506121087, 1.8128121157985768, 1.9154055438880118, 1.7055220939999158, 1.6181824836719616, 1.2859126205197084, 1.592593997728895, 1.786899949094987, 1.7511226850924437, 1.2288691424837292, 1.1778577811839885, 1.0179715187285379, 1.0514330316323284, 1.5179092523780993, 1.819416616265518, 1.6592104505145826, 1.8361293571880317, 1.711348651750782, 1.2655181933663466, 1.6222716893509854, 1.621318494899978, 1.5259607899592718, 1.1136256469730739], [1.3159222541987794, 1.4637339650603078, 1.3968393652343942, 1.6162692441294373, 1.3704811207265897, 1.399997830013708, 1.5265302744618452, 1.5824349999314022, 1.2728702841145507, 1.5325715619711844, 1.705344769151361, 1.3941335312925107, 1.6550753796856004, 1.659491407651274, 1.3798216865370303, 1.5292430044160803, 1.6056444663574005, 1.58477277526104, 1.47626216280046, 1.6703956397344806, 1.6002462684876966, 1.377334578867912, 1.5392069576122096, 1.740766422960297, 1.4923944655490071, 1.7313910767670326, 2.099956351897413, 1.8084630925741791, 1.4408615960393123, 1.5737201661565992, 1.501596419835349, 1.2463077044123383, 1.6315975594949965, 1.6378167537723738, 1.4660494352570204, 1.0908465174737558, 1.2065785561606113, 0.9978281215843317, 1.0974292191455681, 1.5514189601513724, 1.6177457323902975, 1.5225369674925302, 1.760870505249824, 1.7399516109733886, 1.5741299220057139, 1.7735506711205158, 1.5940028288271384, 1.1730916582959865, 1.0666738307541705], [1.4073770077375025, 1.5595699376187837, 1.5857810841391464, 1.6181252765698124, 1.6993970959841935, 1.7602274119098307, 1.5235227800289795, 1.6579033661652847, 1.6226402315401902, 1.7558016970683312, 1.4157798189301178, 1.4492386547427596, 1.7856912572929335, 1.8643481172863827, 1.6584247105155427, 1.6509778758523048, 1.8556533755254625, 1.7803050030839753, 1.575825977681097, 1.8620200782962049, 1.535688128001543, 1.3364912221416758, 1.7620575919391004, 1.7605228100802954, 2.0115459073914073, 1.6765918133781068, 1.8780440539947763, 1.6556271468741521, 1.7080709688718134, 1.7547639946413343, 1.3702772718445178, 1.4659232502573485, 1.6606177391707262, 1.913855214336434, 1.5766148023852087, 1.1262986833591913, 1.1750999927002819, 1.117097247365142, 1.5038141527356892, 1.548784990239155, 1.7150306596287102, 1.8916598958156599, 1.8138280553093427, 1.4709619699710899, 1.6981412188561689, 1.8428973565313238, 1.539914977716008, 1.5739609272701578, 1.269158623241913], [1.4111380904710524, 1.5479962724400886, 1.6253644946238555, 1.717631249260699, 1.5688587731078631, 1.7087728865057368, 1.5996225288016068, 1.8140136137972345, 1.8770564511391865, 1.4810702648788903, 1.5286846894954, 1.6249227035380358, 1.7659168491792574, 1.7078579235617033, 1.7263660664230067, 1.846929266336954, 1.7382834933555527, 1.8302465908535612, 1.6673232990437619, 1.5957449837745108, 1.648229817656598, 1.3325540156206368, 1.8935308866985108, 1.9041530528140833, 1.4760207809808175, 1.5757190638223533, 1.7173660913563369, 1.6082077704669813, 1.6811258663268414, 1.6085572003975979, 1.39751561528701, 1.4593691322543103, 1.6938741621715707, 1.772256259748859, 1.2315211894152407, 1.2729656733233146, 1.3019094482291882, 1.4331684547307946, 1.3971107668769176, 1.5921314260600399, 1.760258735640336, 1.8984289788946458, 1.5465297061692416, 1.7763595026027088, 1.841791971079306, 1.6630130076154064, 1.5584779853334592, 1.5846253439643407, 1.3371092476956215], [1.496007447620443, 1.6248425435641336, 1.6477723823055639, 1.5993569277703275, 1.6475306434187622, 1.5604005347676313, 1.7429432054620146, 1.6431733884197255, 1.7951240212297837, 1.7200212183195422, 1.7420667132037275, 1.5102298631734221, 1.411767190476875, 1.5494557617950184, 1.8363866450234918, 1.6928361465757096, 1.6388522235824818, 1.5711989373326194, 1.83496679440295, 1.8008800983782112, 1.6050886659504737, 1.6259264039777606, 1.8062982827390877, 1.7688832000151373, 1.0703880748450023, 1.6158506590433073, 1.6514129322233837, 1.6126666723101166, 1.5442639325285312, 1.7139962750585376, 1.284420137331494, 1.4533478798392974, 1.542202895225389, 1.6788875542326351, 1.2779252250986297, 0.9857459615826419, 1.839229877454983, 1.3999264852971183, 1.4507683507754894, 1.697663078442699, 1.933208150194282, 1.850356920991223, 1.7249384314803164, 2.056373013431553, 1.884696640521989, 1.6848620742600402, 1.7528991269001448, 1.4572921905432314, 1.3638371511755178]], \"type\": \"surface\", \"uid\": \"f46af007-d9bf-4ca1-869b-540039c7991b\"}], {\"height\": 700, \"scene\": {\"xaxis\": {\"backgroundcolor\": \"rgb(230, 230,230)\", \"gridcolor\": \"rgb(255, 255, 255)\", \"showbackground\": true, \"title\": {\"text\": \"shift\"}, \"zerolinecolor\": \"rgb(255, 255, 255)\"}, \"yaxis\": {\"backgroundcolor\": \"rgb(230, 230,230)\", \"gridcolor\": \"rgb(255, 255, 255)\", \"showbackground\": true, \"title\": {\"text\": \"rolling\"}, \"zerolinecolor\": \"rgb(255, 255, 255)\"}, \"zaxis\": {\"backgroundcolor\": \"rgb(230, 230,230)\", \"gridcolor\": \"rgb(255, 255, 255)\", \"showbackground\": true, \"title\": {\"text\": \"\\u0414\\u043e\\u0445\\u043e\\u0434\\u043d\\u043e\\u0441\\u0442\\u044c\"}, \"zerolinecolor\": \"rgb(255, 255, 255)\"}}, \"title\": {\"text\": \"\\u042d\\u0444\\u0444\\u0435\\u043a\\u0442\\u0438\\u0432\\u043d\\u044b\\u0435 \\u0433\\u0440\\u0430\\u043d\\u0438\\u0446\\u044b\"}, \"width\": 800}, {\"showLink\": false, \"linkText\": \"Export to plot.ly\", \"plotlyServerURL\": \"https://plot.ly\"})});</script>"
      ],
      "text/vnd.plotly.v1+html": [
       "<div id=\"129aa27d-74f9-4b8b-9631-0889e970e2b2\" style=\"height: 700px; width: 800px;\" class=\"plotly-graph-div\"></div><script type=\"text/javascript\">require([\"plotly\"], function(Plotly) { window.PLOTLYENV=window.PLOTLYENV || {};window.PLOTLYENV.BASE_URL=\"https://plot.ly\";Plotly.newPlot(\"129aa27d-74f9-4b8b-9631-0889e970e2b2\", [{\"x\": [10, 20, 30, 40, 50, 60, 70, 80, 90, 100, 110, 120, 130, 140, 150, 160, 170, 180, 190, 200, 210, 220, 230, 240], \"y\": [5, 10, 15, 20, 25, 30, 35, 40, 45, 50, 55, 60, 65, 70, 75, 80, 85, 90, 95, 100, 105, 110, 115, 120, 125, 130, 135, 140, 145, 150, 155, 160, 165, 170, 175, 180, 185, 190, 195, 200, 205, 210, 215, 220, 225, 230, 235, 240, 245], \"z\": [[0.4623883313406869, 0.23178862236555753, 0.30480461968457884, 0.5900814206984774, 0.8107045384204384, 0.7163266296397062, 0.47053018155510085, 0.6047255697196693, 0.7309348782853813, 0.4350085957017887, 0.7263260578158264, 0.7176964455034988, 1.1154274767311336, 0.6498207086023973, 0.18019877244189822, 0.6889980457722656, 0.6277084570972334, 0.47647446824468453, 0.17343942814891283, 0.20547421685860792, -0.2863939977453488, 0.6061376033281938, 0.20152404359243295, 0.6650236220449854, 0.44155765067661323, 1.0590952238553144, 0.7143815067501985, 0.0668845712662863, 0.9928845362573365, 0.4279098761273389, 0.5286582788276751, -0.2463211547667074, -0.09615567743277328, -0.14857943103943064, 0.7798123825439406, 0.6073444320253949, 0.9927570288765416, 0.08064641579219314, 0.6671255407629786, 1.455448990609582, 0.7407471666061229, 0.30638388777048214, 1.2443156418472767, 0.9648939907983645, 1.1884216439393231, 0.966731206305222, 1.4158787971977096, 0.6891793072398942, 0.5673615127883994], [0.4182568560395362, 0.4236167039077455, 0.14952477177584106, 0.5830849549686968, 0.37235902254360775, 0.20750142700385196, 0.15714062771703546, 0.45915733656981184, 0.2419760642798403, 0.6065513799849968, 0.6421620271927705, 0.046079932348911376, -0.07402686737324994, 0.07340839851033391, 0.03232181729511187, 0.11263774428646803, 0.6348183249916638, 0.03765889802742198, 0.563030801854619, 0.549322599576596, 0.01745341654219132, 1.1458876797753492, 0.5813199492420449, 0.6530454437170284, 1.565231375772267, 0.0860177490797066, -0.3394406015713798, -0.08533416374221398, 1.1399084603168665, 0.4785372281302077, 0.6450914050000589, 0.1362054149003118, -0.1416909740032189, 0.051245507339479544, 0.8966809005411279, 0.7399198128899673, 1.0576639205762701, 1.1538572735426271, 1.1786704244833561, 0.8944262768695436, 0.8635188355206154, 0.4505778061732982, 1.4138553889576566, 1.6226244212621805, 1.543234947559207, 0.649799830112732, 0.7067080314988239, 1.176217220060247, 0.10459027045445896], [0.4394120751114121, 0.28024748421894935, 0.5890317103422444, 0.45080238155393154, 0.4748771794644987, 0.3125991987565196, 0.8084933955160132, 0.5533535010767996, 0.4291843436485955, 0.5407414155620678, -0.0934770921725929, 0.48556352016245424, -0.1557423609420648, 0.03234514894174119, 0.16873488696378114, -0.23029950090171997, 0.28167997143215745, 0.24410565350714256, 0.7024880900802603, 0.4195581641137735, 0.3325855612527533, 1.269373078428355, 1.09137548452684, -0.23254169726692978, 1.687089329433097, 0.16996104672083923, -0.2158982197142746, -0.028395442152021624, 1.1190617013284723, 0.09460807175458627, 0.8265569637486185, -0.059955582922475326, 0.3100857062360387, 0.0013161848318482862, 1.02699237505402, 0.7786206792383985, 1.22833587502167, 1.1033128326427106, 0.9438033555789538, 0.7968175066418073, 0.6017286687322047, 0.6979108045242021, 2.1195582393693257, 1.242420332904197, 0.8214104939946266, 1.4031749707516765, 0.6047187131709655, 0.4359413011241459, 0.4719550406440637], [0.3648967775787123, 0.5000920107305561, 0.5598740816960306, 0.5187603491363063, 0.6176173984807273, 0.6209956139965263, 0.6348893604546064, 0.21671724753063823, 0.49081580970123717, -0.4117671794917668, 0.9432857514596077, 0.5033891933260405, 0.6020170739967865, 0.12981118239272713, -0.2873419888493816, 0.1394463289037676, 0.6710575432295143, 0.7798945863665581, 1.0903113722822861, 0.42286960218265823, 0.42777238485612246, 1.1420924125225491, 0.6653882464116668, -0.2906828268890194, 1.2014236937747427, 0.7649783120444852, 0.27543965855545577, -0.04045440094856263, 0.6758933810541112, 0.4556299062145787, 0.8153587294794337, 0.19692520010511574, 0.5686615150156906, 0.5979810633655618, 0.33898896989011795, 0.6995156543283675, 0.9778730192342867, 0.9407632945717496, 1.2591001359649312, 0.9395989325286194, 0.6597545857782331, 0.9466928913836902, 1.750244209574185, 1.2591747970478575, 0.7936253364157454, 0.8989663660224041, 0.9195390880569376, 0.14875881570031116, 0.5936671910290375], [0.24575972268345234, 0.6481963474859379, 0.24008478442209777, 0.7598801079467933, 0.5512437874696932, 0.7515433154523405, 0.6107675039061683, 0.5757157666345475, 0.7807403343209575, -0.13278247999946047, 1.1093714620156212, 0.9849572617979033, 0.7930119930496838, 0.23523696908591782, 0.4884496382587913, 0.8873747367997529, 0.3472241210811884, 1.047253813272414, 1.3114942824029792, 1.0733800758112848, 0.465271224538335, 1.0367373222548506, 0.717167837027894, 0.09085418020705402, 1.327958635083313, 0.677771247903683, 0.03464275088571917, -0.09430667308196014, 0.9788291286170054, 0.6091168958437649, 1.1136143971535204, 0.7272800443891145, 0.9196100809997454, 0.3620567359243604, 1.52112780607304, 1.0498884140098281, 1.3393161670221339, 1.515006777575592, 1.2373942670775042, 0.9062995464148211, 1.0018199228938185, 0.7124990514809952, 1.5800148456400718, 1.3000753056844105, 0.9611811319241736, 0.8695757301410644, 0.48820119389110284, 0.3895812860292147, 1.2171873847638257], [0.14582312826251564, 0.4858041701817799, 0.5453795915209182, 0.62891443299982, 0.8100049391079132, 0.3521558741061815, 0.490449253525308, 0.727447326152747, 0.734147718369011, 0.5407300382606042, 0.9234105356930548, 0.4747083815474152, 0.9824746854034114, 0.44894846176654013, 0.7625230126940858, 1.2429830146361265, 1.0012862089223158, 0.8775871167466516, 1.3439682970057192, 0.26345284183068113, 1.2318757495975228, 0.8803474601487162, 0.9537349170196595, 0.33325821088838026, 0.8728877098661234, 0.6041305485337372, 0.1883864857066082, 0.40803702813383635, 0.670409146486536, 1.092243835012153, 1.4921804022801848, 0.8195904643968241, 0.9712250763294232, 0.9314942857693549, 1.094634520639076, 1.1688594630162372, 1.5990554109404602, 1.6880235923048488, 1.3342936561786043, 0.8413246274995247, 0.9564818606082125, 1.461425863395715, 1.4414262345075182, 0.9186980074958702, 0.9933666718270548, 1.0752334912132329, 0.5007301922106958, 0.7519563081303245, 1.191877049106303], [0.2676101261225442, 0.3848311441807728, 0.32796185868893785, 0.34510105273173525, 0.7211161700203959, 0.8072817356641128, 0.5082230991799767, 0.24319816016719564, 0.5790638681968668, 0.7057784803288885, 1.5648181900766622, 0.7285701655400685, 0.9733675781548485, 0.6981404118297089, 1.3602113191135274, 1.4102379949687895, 0.8704675389521743, 1.0330191942496951, 1.2291382904217887, 0.30683668127419317, 1.0811978761202934, 1.2384667504923426, 0.47366263000776154, 0.6929587906062896, 1.1262554653968184, 1.0278966584421578, 0.30636167403980596, 0.8588804503897804, 1.139478689839798, 1.8973934670451802, 1.2993921346274162, 0.813198541308588, 1.2197312802211795, 0.9160011939556129, 1.2675193359993493, 1.5998171861871975, 1.4903563413235887, 1.7146899520484367, 1.6857811775565137, 0.6484149799909673, 1.271642186670435, 1.5452446525470913, 1.3353753856191697, 1.097918042926464, 1.0589772905570047, 0.8535315081579792, 0.6969014594656601, 1.4052617311290474, 1.664328012112959], [0.4665903382533594, 0.5072345234957388, 0.8789086947157452, 0.7847403466861297, 0.9704590496725854, 0.7626974502633509, 0.8507055310719501, 0.6636441427637391, 0.9402769604715261, 1.2782139776803214, 1.298502839758862, 0.7028636075123766, 1.242494431192627, 1.06103469327393, 1.7866290791048867, 1.413686596337269, 1.2965065807200213, 1.0807614549421678, 1.5711281682456568, 1.0777832403594108, 1.2514840950229413, 0.9213666551733283, 0.5179045672855362, 0.8485258577194769, 1.4545327928285046, 1.3034915873164823, 1.1469840502238735, 1.2649257591909353, 2.0188666598800413, 2.203306774216898, 1.416190291551965, 1.3819768676179596, 1.327675152469749, 1.026030543775524, 1.4253600184390756, 2.0626885953384377, 1.6208028937904893, 1.6097656322828966, 1.4904182897371974, 0.9967946559806898, 1.8294785371181246, 1.52109231217787, 1.1736728933185254, 0.9498215942641101, 1.3443292145231802, 0.7562732142397968, 1.4077384654256824, 1.780484698584205, 1.9287785828390398], [0.6938404132806488, 0.8649777501384245, 0.9298043054296489, 1.0556932137390638, 1.1503651934438412, 0.9603464732091477, 1.3348461766379485, 1.2113190144492847, 1.5985349600440655, 1.2591121768188716, 1.2741036947059332, 1.0375612331008752, 1.3389063087874107, 1.5092501277158066, 1.4551105641365276, 1.5788091769167283, 1.806650700529673, 1.6763095186521828, 1.7330956337847123, 0.9572576767506162, 1.4839402751982211, 1.0894818907281485, 1.0811531801330287, 1.5502637772783618, 1.6586476018723728, 1.2170074787916438, 1.5101419097729676, 1.9138683851144023, 1.9235350651593723, 1.7059346709984418, 1.3471311500770002, 1.4398212604273866, 1.1878254469729714, 1.1674020689098294, 1.726547908147874, 2.171400763511116, 1.7257370363989566, 1.513342806227498, 1.731136404842432, 1.7044602595871425, 1.567910091360337, 1.3331032992170178, 1.1147913797802187, 1.0987200694108405, 1.267502527941139, 0.9597388378345426, 1.9420465780280534, 2.1446539854106894, 1.8714304129861306], [1.2448543311018234, 1.079952374781424, 1.33292409852421, 1.273902972076601, 1.327055915770869, 1.6483408814102762, 1.4574325962900838, 1.6775809980171896, 1.6920011495928553, 1.3590069058288754, 1.584963775955521, 1.1187080030478265, 1.1847962040934565, 1.2713365873098657, 1.5765146251790014, 1.379391625459085, 1.692820767618627, 1.7922698524554583, 1.8556606535885318, 0.9721883882950475, 1.4695843705020686, 1.7475268714536498, 1.6304018070223945, 1.9002516294903415, 1.4808307185959768, 1.602803096067669, 1.679585591850715, 1.5721029470348935, 1.817103986591961, 1.8127241992581578, 1.36138005717581, 1.503115596151474, 1.1286564141981494, 1.3143787900368284, 2.10628031122593, 1.6933041530003057, 1.55863105795241, 1.3575026532609025, 2.0667714879617276, 1.6072325453228786, 1.8464405287121226, 1.2127635531985241, 1.0437267325184647, 1.452641452976456, 1.0524872401986776, 1.3965328150720697, 2.1582652751174987, 2.0288699192507704, 2.3752732324676114], [1.3421758901634826, 1.4652143816292884, 1.6152352797240266, 1.736316360232973, 1.4344645105444793, 1.6876256330677193, 1.1350946604502903, 1.3685151473787305, 1.8165342378722902, 1.4277958159234774, 1.2083247914383934, 1.3413637027539973, 1.0420142039668998, 0.8002819653624039, 1.295158521726461, 1.027248103990077, 1.4535932950732726, 1.2358944200184385, 1.4583010312697018, 1.7099411760310204, 1.3711676491993154, 1.5431392280512806, 1.6998090360823497, 1.8500859310991846, 1.3532531384485906, 1.5854574188045154, 1.554335939538892, 1.4842538062319177, 2.1630386701079556, 1.7066032082815084, 1.641213542482459, 1.3691939893802312, 0.9969514542470272, 1.3971275210690761, 2.294121432865733, 1.497524996727944, 1.5496326272567744, 1.275973653720409, 1.5678411913423131, 1.7650296560684429, 1.4678802247167695, 1.2544421150734641, 0.9108146135613907, 1.2455381546665099, 1.3108745461703177, 2.0148883840257, 2.5062084117493133, 2.1451666364096016, 2.1010047776032668], [1.433574034786765, 1.5041812803576835, 1.536534305570475, 1.3831772455766398, 1.6034029037586908, 1.3408255455430642, 1.310383652855478, 1.0986969043761805, 1.2965053282904637, 1.087509252049285, 1.2221849238790679, 0.8029721368839247, 0.818000560238351, 0.9926694196352448, 1.1813693573524313, 0.8179111954210468, 1.240240400880967, 1.5080267878415996, 1.550736230875316, 1.5573368164691463, 1.4124551079412, 1.7438621308816455, 1.6040828620415941, 1.524753102950374, 1.4614153138667512, 1.8203354202878579, 1.441090774976548, 1.5734569871849866, 2.175590537307134, 1.6943732598078718, 1.6203455085990282, 1.2395357075475075, 1.4866786809182337, 1.828507227021318, 1.9721332955047106, 1.4549172618174957, 1.3060258939592826, 1.5679376003345211, 1.7489496820648007, 1.4489941082720985, 1.2046129223182862, 0.9345421951237218, 1.339727013006029, 1.3006092138185028, 2.412839347473724, 2.2435060547048193, 2.2837520449143116, 1.891163433313613, 1.7656162837190685], [1.2440633284576232, 1.4527344058651368, 1.4604128422161562, 1.5274503124251908, 1.6002942641748976, 1.3680473457817062, 1.2381495325489622, 1.3223128403847213, 1.252891197447442, 1.0856892861111669, 1.1677645154579235, 1.1109453714537822, 0.9604608273765537, 1.08800847390209, 1.552389747923753, 1.3773169652713886, 1.4066463773499907, 1.5662939858109477, 1.7218595062153492, 1.8855862646513872, 1.4975318006917702, 1.7597790357051961, 1.7694804432527145, 1.7834006821511974, 1.2164981601180562, 1.5035376227953448, 1.6711375913277104, 1.600431808317915, 1.8619239987647689, 1.7983254190563627, 1.9058725849995242, 1.178106236327217, 1.3645606077915384, 2.23441188793766, 1.854038058999906, 1.6521139248008547, 1.3385387872433887, 1.49493961748652, 1.6321671165971894, 1.4680961551072012, 1.2405085079147504, 1.0726573238699835, 1.4922804155181912, 1.607095069780256, 2.148405785570943, 2.2407711014923777, 2.25370302819326, 2.3478449772494905, 1.7209609769551981], [1.1762126464567915, 1.2932769354359688, 1.2884475664236474, 1.1545273863405938, 1.2816805997395504, 1.1409937360405629, 1.3463683533212785, 1.2089954837544856, 1.31194520705099, 0.9249754049072256, 0.9965479371474341, 1.1298326819712525, 1.0571501649520432, 1.4761592764256721, 1.5259618042169978, 1.4951504876764639, 1.7518059241120087, 1.6076237695687314, 1.5304693600814263, 1.7372904573689252, 1.552116373179599, 1.8766015473056519, 1.606542338353945, 1.61611853745638, 1.1800879217352562, 1.7574229243670276, 1.671269890579682, 1.7457048199658676, 1.6199563051215649, 1.8316961903015523, 2.0117022949927432, 0.8658008842464787, 1.4046932377231967, 1.9222416966903604, 1.7635808867074774, 1.4830305125806074, 1.4342428718184923, 1.508672023189414, 1.5687953858516337, 1.349165964245899, 1.0771966744341581, 1.3016456702784065, 1.490933891153559, 1.951595208338458, 2.21255944504466, 2.2929000322260973, 2.1373310524320637, 1.6503923384749433, 1.2745901231795187], [1.2036449568672762, 1.334078755291136, 1.253689745397411, 1.4197626441042268, 1.3361306700204967, 1.1624504652765661, 1.4820288653131413, 1.311327496007465, 1.3034355492776841, 1.1090361854151896, 1.1859855102050934, 1.6253384974146465, 1.363444575376664, 1.9510670599213338, 1.662877886856816, 1.938681976969744, 1.6288627465498307, 1.8504995542240819, 2.109709360166518, 1.9955561471886805, 1.718432738700489, 1.8034039651467766, 1.904491831092338, 1.656829752005771, 1.6100965010891897, 1.913635594457198, 1.65531170130667, 2.1745629313461103, 2.0440942503073622, 1.850010860309101, 1.7900009775915868, 1.2842984206978927, 1.451398126039977, 1.7751654974663753, 1.8558385794802306, 1.5375619656390682, 1.504654265571167, 1.6530766942665318, 1.6504647274620041, 1.5124246203530087, 1.030879119257268, 1.3783116849100845, 1.7652366414620064, 2.370795940700264, 2.169371263396753, 2.0764150983342535, 1.9938116487464996, 1.8956139539966477, 1.6851602884137222], [1.2822598973677675, 1.4425764530312815, 1.5571356580559694, 1.3726531332748555, 1.3507574878141784, 1.6803083664010965, 1.2177732011662645, 1.1329407662664117, 1.1663106212212997, 1.5476249595104565, 1.7317039138423393, 1.8664634592184421, 1.4053118181726916, 1.8963083897591453, 1.9488897055703613, 1.7822546443344949, 1.6941836782281716, 1.8413709013157735, 1.8456967472232386, 1.695027601857036, 1.6508409451505794, 1.668671465301358, 1.8024292887144249, 1.4149267259397542, 1.7582943942962868, 2.0574918603062042, 1.4967079454328547, 1.8721388439564846, 2.1426949144078975, 1.9284686817989465, 1.361047710956725, 1.3378390747950115, 1.573415619487451, 1.9870650365809135, 1.8397260578280967, 1.550954372666824, 1.8833319479118342, 1.6697533590239082, 1.3860688143876903, 1.0722225644120225, 1.2397986286500207, 1.7101163619764068, 2.218596742602023, 1.8140210758816577, 1.9741895527835815, 1.9459006991634875, 1.3535408068281158, 1.7474063697796745, 1.5984648778804433], [1.2744850966752015, 1.3496740502425373, 1.3549141210167024, 1.4017826376585973, 1.5457325875358436, 1.4444387656543154, 1.3748505134863873, 1.3423461185305225, 1.2890244115913214, 1.834249203352653, 1.7081157607795565, 1.6320063468374124, 1.6714201221558527, 1.7454780159795327, 1.9404968323965603, 1.7117694614075245, 1.6873903563898067, 1.77487724235502, 1.6698527775892018, 1.6800283775470877, 2.0948445843781855, 1.5543417369500607, 1.768169003314736, 1.392978351727017, 1.5631275166437777, 1.8813547339491712, 1.6122359074036334, 2.057247469693708, 1.8943180657068592, 1.7112863833777818, 1.3766282053900931, 1.3300336500350312, 1.4350399781349414, 2.0966285846952206, 2.159188396264231, 1.477137519202281, 1.699327942478324, 1.331473377837512, 1.6922662531131885, 1.2416514339180635, 1.4711242015799062, 1.8366920394566322, 2.024953859772708, 1.772723223825692, 2.0808444807721247, 1.8364024243329704, 1.6040200178535853, 1.6378676962459948, 1.5895156507743236], [1.2314625238542531, 1.4065583574283114, 1.3932349809067772, 1.4767025660588615, 1.595688366608992, 1.4817649695277615, 1.7598718164020057, 1.6699347177488717, 1.8078003262844509, 1.7783480052470204, 1.687140287589266, 1.3992096119960136, 1.5056160219413548, 1.899666370555268, 1.528000567371344, 1.5340767036356284, 1.8876094248526103, 1.9550302052644035, 1.8481015657336008, 1.6329567328400902, 2.0272566095783353, 1.7868279011124089, 1.684582753984382, 1.6723593609668448, 1.4103832156154834, 1.7730932942992732, 1.7332922055149453, 2.200910358843073, 1.9811479054467662, 1.4374522544924049, 1.3284767345819355, 1.28128249294243, 1.8501512857111697, 2.2241027732992906, 1.6819606081018332, 1.48795997492804, 1.6381402205497488, 1.4461623683613074, 1.1473958264295332, 0.9641575684921503, 1.5089554080044556, 1.970297750663521, 1.7775681843537876, 1.7091784802290046, 2.005401783206221, 1.610712084798175, 2.0119572645892996, 1.6297160390763883, 1.5589015379151379], [1.2984614358449882, 1.437847827900707, 1.4820297453446494, 1.6264071651167313, 1.6208075396364765, 1.8034984011900896, 1.5757630975709171, 1.802102891248848, 1.8646351953202964, 1.6380165194350953, 1.883948624273321, 1.7549408367737287, 1.6124608140057004, 1.4668923965055882, 1.4791483638101794, 1.7266506801078456, 1.6964941186693996, 1.975409990322443, 1.7173869234022485, 1.6145528569448546, 1.8952062905821847, 1.6785949250736745, 1.466415578990184, 1.7253593131835905, 1.6181344615412967, 1.5579139109304305, 1.7185374871225598, 1.8219862103195568, 1.6538237013080972, 1.6318235439868518, 1.8773097145827415, 1.3388969962124913, 1.7784685514707976, 1.9587899653901555, 1.7536392772824656, 1.7176998244191126, 1.3467088731767902, 1.2281745928173875, 1.1062152587157164, 1.1684145967650612, 1.94080609511588, 1.8037986565371429, 1.658091564662253, 1.816381014178926, 1.628186304513324, 1.6862836913075252, 1.629230789738795, 1.5817334681258368, 1.3296847418550046], [1.1887155688015085, 1.3780686834085982, 1.4297674262076963, 1.4924071763822213, 1.5668513383598368, 1.507742280165433, 1.6847455924138632, 1.6799869501710254, 1.6502469327453202, 1.4543706544312887, 1.6435892412392938, 1.5560509172569508, 1.7673054239217263, 1.6517065119455068, 1.3823446594995636, 1.5342820458331525, 1.4209532446871591, 1.7695097576289363, 1.5716452786124806, 1.4060670440709957, 1.6276680494238354, 1.503737817065984, 1.3076631475843943, 1.777093252840695, 1.7684987071830296, 1.834982786924718, 1.6525675506121087, 1.8128121157985768, 1.9154055438880118, 1.7055220939999158, 1.6181824836719616, 1.2859126205197084, 1.592593997728895, 1.786899949094987, 1.7511226850924437, 1.2288691424837292, 1.1778577811839885, 1.0179715187285379, 1.0514330316323284, 1.5179092523780993, 1.819416616265518, 1.6592104505145826, 1.8361293571880317, 1.711348651750782, 1.2655181933663466, 1.6222716893509854, 1.621318494899978, 1.5259607899592718, 1.1136256469730739], [1.3159222541987794, 1.4637339650603078, 1.3968393652343942, 1.6162692441294373, 1.3704811207265897, 1.399997830013708, 1.5265302744618452, 1.5824349999314022, 1.2728702841145507, 1.5325715619711844, 1.705344769151361, 1.3941335312925107, 1.6550753796856004, 1.659491407651274, 1.3798216865370303, 1.5292430044160803, 1.6056444663574005, 1.58477277526104, 1.47626216280046, 1.6703956397344806, 1.6002462684876966, 1.377334578867912, 1.5392069576122096, 1.740766422960297, 1.4923944655490071, 1.7313910767670326, 2.099956351897413, 1.8084630925741791, 1.4408615960393123, 1.5737201661565992, 1.501596419835349, 1.2463077044123383, 1.6315975594949965, 1.6378167537723738, 1.4660494352570204, 1.0908465174737558, 1.2065785561606113, 0.9978281215843317, 1.0974292191455681, 1.5514189601513724, 1.6177457323902975, 1.5225369674925302, 1.760870505249824, 1.7399516109733886, 1.5741299220057139, 1.7735506711205158, 1.5940028288271384, 1.1730916582959865, 1.0666738307541705], [1.4073770077375025, 1.5595699376187837, 1.5857810841391464, 1.6181252765698124, 1.6993970959841935, 1.7602274119098307, 1.5235227800289795, 1.6579033661652847, 1.6226402315401902, 1.7558016970683312, 1.4157798189301178, 1.4492386547427596, 1.7856912572929335, 1.8643481172863827, 1.6584247105155427, 1.6509778758523048, 1.8556533755254625, 1.7803050030839753, 1.575825977681097, 1.8620200782962049, 1.535688128001543, 1.3364912221416758, 1.7620575919391004, 1.7605228100802954, 2.0115459073914073, 1.6765918133781068, 1.8780440539947763, 1.6556271468741521, 1.7080709688718134, 1.7547639946413343, 1.3702772718445178, 1.4659232502573485, 1.6606177391707262, 1.913855214336434, 1.5766148023852087, 1.1262986833591913, 1.1750999927002819, 1.117097247365142, 1.5038141527356892, 1.548784990239155, 1.7150306596287102, 1.8916598958156599, 1.8138280553093427, 1.4709619699710899, 1.6981412188561689, 1.8428973565313238, 1.539914977716008, 1.5739609272701578, 1.269158623241913], [1.4111380904710524, 1.5479962724400886, 1.6253644946238555, 1.717631249260699, 1.5688587731078631, 1.7087728865057368, 1.5996225288016068, 1.8140136137972345, 1.8770564511391865, 1.4810702648788903, 1.5286846894954, 1.6249227035380358, 1.7659168491792574, 1.7078579235617033, 1.7263660664230067, 1.846929266336954, 1.7382834933555527, 1.8302465908535612, 1.6673232990437619, 1.5957449837745108, 1.648229817656598, 1.3325540156206368, 1.8935308866985108, 1.9041530528140833, 1.4760207809808175, 1.5757190638223533, 1.7173660913563369, 1.6082077704669813, 1.6811258663268414, 1.6085572003975979, 1.39751561528701, 1.4593691322543103, 1.6938741621715707, 1.772256259748859, 1.2315211894152407, 1.2729656733233146, 1.3019094482291882, 1.4331684547307946, 1.3971107668769176, 1.5921314260600399, 1.760258735640336, 1.8984289788946458, 1.5465297061692416, 1.7763595026027088, 1.841791971079306, 1.6630130076154064, 1.5584779853334592, 1.5846253439643407, 1.3371092476956215], [1.496007447620443, 1.6248425435641336, 1.6477723823055639, 1.5993569277703275, 1.6475306434187622, 1.5604005347676313, 1.7429432054620146, 1.6431733884197255, 1.7951240212297837, 1.7200212183195422, 1.7420667132037275, 1.5102298631734221, 1.411767190476875, 1.5494557617950184, 1.8363866450234918, 1.6928361465757096, 1.6388522235824818, 1.5711989373326194, 1.83496679440295, 1.8008800983782112, 1.6050886659504737, 1.6259264039777606, 1.8062982827390877, 1.7688832000151373, 1.0703880748450023, 1.6158506590433073, 1.6514129322233837, 1.6126666723101166, 1.5442639325285312, 1.7139962750585376, 1.284420137331494, 1.4533478798392974, 1.542202895225389, 1.6788875542326351, 1.2779252250986297, 0.9857459615826419, 1.839229877454983, 1.3999264852971183, 1.4507683507754894, 1.697663078442699, 1.933208150194282, 1.850356920991223, 1.7249384314803164, 2.056373013431553, 1.884696640521989, 1.6848620742600402, 1.7528991269001448, 1.4572921905432314, 1.3638371511755178]], \"type\": \"surface\", \"uid\": \"f46af007-d9bf-4ca1-869b-540039c7991b\"}], {\"height\": 700, \"scene\": {\"xaxis\": {\"backgroundcolor\": \"rgb(230, 230,230)\", \"gridcolor\": \"rgb(255, 255, 255)\", \"showbackground\": true, \"title\": {\"text\": \"shift\"}, \"zerolinecolor\": \"rgb(255, 255, 255)\"}, \"yaxis\": {\"backgroundcolor\": \"rgb(230, 230,230)\", \"gridcolor\": \"rgb(255, 255, 255)\", \"showbackground\": true, \"title\": {\"text\": \"rolling\"}, \"zerolinecolor\": \"rgb(255, 255, 255)\"}, \"zaxis\": {\"backgroundcolor\": \"rgb(230, 230,230)\", \"gridcolor\": \"rgb(255, 255, 255)\", \"showbackground\": true, \"title\": {\"text\": \"\\u0414\\u043e\\u0445\\u043e\\u0434\\u043d\\u043e\\u0441\\u0442\\u044c\"}, \"zerolinecolor\": \"rgb(255, 255, 255)\"}}, \"title\": {\"text\": \"\\u042d\\u0444\\u0444\\u0435\\u043a\\u0442\\u0438\\u0432\\u043d\\u044b\\u0435 \\u0433\\u0440\\u0430\\u043d\\u0438\\u0446\\u044b\"}, \"width\": 800}, {\"showLink\": false, \"linkText\": \"Export to plot.ly\", \"plotlyServerURL\": \"https://plot.ly\"})});</script>"
      ]
     },
     "metadata": {},
     "output_type": "display_data"
    }
   ],
   "source": [
    "fig = go.Figure(data=data, layout=layout)\n",
    "plotly.offline.iplot(fig)"
   ]
  },
  {
   "cell_type": "markdown",
   "metadata": {},
   "source": [
    "Из анализа графика видно, что максимальной доходности оптимальные значения для **rolling** должны быть более 80 дней"
   ]
  },
  {
   "cell_type": "code",
   "execution_count": null,
   "metadata": {},
   "outputs": [],
   "source": []
  },
  {
   "cell_type": "code",
   "execution_count": null,
   "metadata": {},
   "outputs": [],
   "source": []
  }
 ],
 "metadata": {
  "kernelspec": {
   "display_name": "Python 3",
   "language": "python",
   "name": "python3"
  },
  "language_info": {
   "codemirror_mode": {
    "name": "ipython",
    "version": 3
   },
   "file_extension": ".py",
   "mimetype": "text/x-python",
   "name": "python",
   "nbconvert_exporter": "python",
   "pygments_lexer": "ipython3",
   "version": "3.7.0"
  }
 },
 "nbformat": 4,
 "nbformat_minor": 2
}
